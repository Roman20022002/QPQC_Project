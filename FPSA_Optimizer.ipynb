{
 "cells": [
  {
   "cell_type": "code",
   "execution_count": 1,
   "metadata": {},
   "outputs": [],
   "source": [
    "import numpy as np\n",
    "\n",
    "def R():\n",
    "    return 0\n",
    "\n",
    "def FDSA(u,err,a,c, gam = 1/3):\n",
    "    ## For convergence: gam in [1/6, 1/2]\n",
    "    ##                  \n",
    "    a_n = 1\n",
    "    while a_n > err:\n",
    "        g = np.zeros(len(u))\n",
    "        for i in range(len(u)):\n",
    "            d = np.random.normal(0,a_n,len(u)) ## Rademacher distribution\n",
    "            normed_d = d / np.linalg.norm(d)\n",
    "            g[i] = (R(u+c*d)-R(u-c*d))/(2*c)\n",
    "        u -= a*g\n",
    "\n",
    "        c = c/(n**gam)\n",
    "        a_n = a/n\n",
    "        n+=1\n"
   ]
  }
 ],
 "metadata": {
  "kernelspec": {
   "display_name": "Python 3",
   "language": "python",
   "name": "python3"
  },
  "language_info": {
   "codemirror_mode": {
    "name": "ipython",
    "version": 3
   },
   "file_extension": ".py",
   "mimetype": "text/x-python",
   "name": "python",
   "nbconvert_exporter": "python",
   "pygments_lexer": "ipython3",
   "version": "3.9.11"
  }
 },
 "nbformat": 4,
 "nbformat_minor": 2
}
