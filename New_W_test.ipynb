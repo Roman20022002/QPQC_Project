{
 "cells": [
  {
   "cell_type": "code",
   "execution_count": 12,
   "metadata": {},
   "outputs": [
    {
     "data": {
      "text/plain": [
       "[(0, 1), (1, 2), (2, 3), (0, 3)]"
      ]
     },
     "execution_count": 12,
     "metadata": {},
     "output_type": "execute_result"
    }
   ],
   "source": [
    "split = [[0,1],[2,3]]\n",
    "\n",
    "n = 4 #total elements\n",
    "k = 2 #elements per split\n",
    "\n",
    "split = []\n",
    "for i in range(n//k):\n",
    "    split.append(range(i*k,(i+1)*k))\n",
    "split.append(range(n-n%k,n))\n",
    "\n",
    "circuit_num =0\n",
    "\n",
    "entangles = []\n",
    "j=0\n",
    "\n",
    "if j%2==0:\n",
    "    for i in range(n-1):\n",
    "        entangles.append((i,i+1))\n",
    "    entangles.append((0,n-1))\n",
    "else:\n",
    "    for i in range(n-1,0,-1):\n",
    "        entangles.append((i-1,i))\n",
    "    entangles.append((0,n-1))\n",
    "\n",
    "entangles\n"
   ]
  },
  {
   "cell_type": "code",
   "execution_count": null,
   "metadata": {},
   "outputs": [],
   "source": [
    "def W(qc,theta, n, l, complicated_entangle =False):\n",
    "    Theta_matrix = np.reshape(theta, (n,l,3))\n",
    "    for j in range(l):\n",
    "        for i in range(n):\n",
    "            theta_gate(qc,Theta_matrix[i,j,:],i)\n",
    "        add_Z_gates(qc, n, j, complicated_entangle)\n",
    "    return qc"
   ]
  },
  {
   "cell_type": "code",
   "execution_count": null,
   "metadata": {},
   "outputs": [],
   "source": [
    "qc = qk.QuantumCircuit(n)\n",
    "qc = W_new(qc, Theta, n, d)\n"
   ]
  }
 ],
 "metadata": {
  "kernelspec": {
   "display_name": "Python 3",
   "language": "python",
   "name": "python3"
  },
  "language_info": {
   "codemirror_mode": {
    "name": "ipython",
    "version": 3
   },
   "file_extension": ".py",
   "mimetype": "text/x-python",
   "name": "python",
   "nbconvert_exporter": "python",
   "pygments_lexer": "ipython3",
   "version": "3.9.11"
  }
 },
 "nbformat": 4,
 "nbformat_minor": 2
}
