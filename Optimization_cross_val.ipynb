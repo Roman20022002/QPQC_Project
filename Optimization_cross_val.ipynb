{
 "cells": [
  {
   "cell_type": "code",
   "execution_count": 17,
   "metadata": {},
   "outputs": [],
   "source": [
    "import numpy as np\n",
    "import matplotlib.pyplot as plt\n",
    "import seaborn as sns\n",
    "\n",
    "\n",
    "from sklearn.datasets import make_moons\n",
    "from sklearn.model_selection import train_test_split \n",
    "from sklearn.datasets import make_blobs \n",
    "from sklearn import svm\n",
    "\n",
    "from h import *\n",
    "from W_unitary import *\n",
    "from U_unitary import *\n",
    "from qiskit.algorithms.optimizers import COBYLA, ADAM, SPSA, SLSQP, POWELL, L_BFGS_B, TNC, AQGD\n",
    "\n",
    "%matplotlib inline\n",
    "#plt.rcParams['figure.figsize'] = (10,6)\n",
    "#plt.rcParams['figure.dpi'] = 100\n",
    "#sns.set()\n",
    "\n",
    "#%matplotlib inline\n",
    "#%load_ext autoreload\n",
    "#%autoreload 2"
   ]
  },
  {
   "cell_type": "code",
   "execution_count": 18,
   "metadata": {},
   "outputs": [],
   "source": [
    "def MSE_loss(theta, X_train, y_train):\n",
    "    \n",
    "    # new_y_train = []\n",
    "    # for i in range(0, len(y_train)):\n",
    "    #     if y_train[i] == 0:\n",
    "    #         new_y_train.append(-1)\n",
    "    #     else:\n",
    "    #         new_y_train.append(1)\n",
    "    \n",
    "    predictions = []\n",
    "    for i in range(0, len(y_train)):\n",
    "        predictions.append(h(X_train[i], theta, 2, 2, shots))\n",
    "    \n",
    "    error = []\n",
    "    for i in range(0, len(predictions)):\n",
    "        parity = predictions[i] - y_train[i]\n",
    "        error.append(parity)\n",
    "\n",
    "    norm = np.linalg.norm(error)\n",
    "    return norm\n",
    "\n",
    "\n",
    "def cross_validation_split(X,y, ele_per_split, i):\n",
    "    X_train =  np.concatenate((X[:ele_per_split*i,:], X[ ele_per_split*(i+1) :,:]))\n",
    "    X_test = X[ele_per_split*i:ele_per_split*(i+1),:]\n",
    "    y_train = np.concatenate((y[ :ele_per_split*i], y[ele_per_split*(i+1):]))\n",
    "    y_test = y[ ele_per_split*i:ele_per_split*(i+1)]\n",
    "    return X_train, X_test, 2*y_train-1, 2*y_test-1"
   ]
  },
  {
   "cell_type": "code",
   "execution_count": 19,
   "metadata": {},
   "outputs": [],
   "source": [
    "\n",
    "\n",
    "RANDOM_STATE=42\n",
    "seed = np.random.seed(RANDOM_STATE)\n",
    "theta = 2*np.pi*np.random.random(2*2*3)\n",
    "\n",
    "n_samples = 100\n",
    "n_splits = 4\n",
    "\n",
    "X, y = make_moons(n_samples, noise=0.8)\n",
    "if n_samples%n_splits != 0:\n",
    "    print(\"Preffered to have n_splits is divisor of n_samples\")\n",
    "ele_per_split = n_samples//n_splits\n",
    "\n",
    "shots = 1024"
   ]
  },
  {
   "cell_type": "code",
   "execution_count": 20,
   "metadata": {},
   "outputs": [
    {
     "name": "stdout",
     "output_type": "stream",
     "text": [
      "Split  0\n",
      "Optimal Theta  [ 2.13821293  5.61911007  4.52680389  3.6696238   0.41825407  2.10106424\n",
      "  0.05000139  5.31818031  3.73553155  3.87481028 -0.26696127  5.8663242 ]\n",
      "Performance on training set:  30 incorrectly out of  75\n",
      "Performance on test set  12.0 incorrectly out of  25\n",
      "Split  1\n",
      "Optimal Theta  [ 2.32139736  6.64065236  4.59925358  3.60040333  0.98599066  2.10862556\n",
      "  0.12122374  5.44234523  3.1226292   4.44895122 -0.69081281  5.96564025]\n",
      "Performance on training set:  32 incorrectly out of  75\n",
      "Performance on test set  12.0 incorrectly out of  25\n",
      "Split  2\n",
      "Optimal Theta  [ 2.154275    5.95595357  3.36601705  4.06884343  0.61139801  1.2318776\n",
      "  0.17165753  5.24750894  3.5820309   6.04918313 -0.07336508  6.08902337]\n",
      "Performance on training set:  28 incorrectly out of  75\n",
      "Performance on test set  14.0 incorrectly out of  25\n",
      "Split  3\n",
      "Optimal Theta  [ 3.62051049  5.04362981  4.58346227  3.44202831  0.94665115  0.84169301\n",
      "  0.54234994  5.40342646  5.23984427  5.87442635 -1.31714589  5.6686482 ]\n",
      "Performance on training set:  25 incorrectly out of  75\n",
      "Performance on test set  13.0 incorrectly out of  25\n"
     ]
    }
   ],
   "source": [
    "thetas = np.zeros((len(theta), n_splits))\n",
    "for i in range(n_splits):\n",
    "    X_train, X_test, y_train, y_test = cross_validation_split(X,y, ele_per_split, i)\n",
    "\n",
    "    objective_function = lambda theta: MSE_loss(theta, X_train, y_train)\n",
    "\n",
    "    optimizer = COBYLA(maxiter=100)\n",
    "    theta_opt = optimizer.minimize(objective_function, theta).x\n",
    "\n",
    "    thetas[:,i] = theta_opt\n",
    "\n",
    "    y_optimizer_train = np.zeros(len(y_train))\n",
    "    for j in range(0, len(y_train)):\n",
    "        y_optimizer_train[j] = (h(X_train[j], theta_opt, 2, 2, shots))\n",
    "\n",
    "    y_optimizer_test = np.zeros(len(y_test))\n",
    "    for j in range(0, len(y_test)):\n",
    "        y_optimizer_test[j] = (h(X_test[j], theta_opt, 2, 2, shots))\n",
    "\n",
    "    print(\"Split \", i)\n",
    "    print(\"Optimal Theta \", theta_opt)\n",
    "    print(\"Performance on training set: \",int(1/2*np.sum(abs(y_optimizer_train-y_train))), \"incorrectly out of \", n_samples - n_samples//n_splits)\n",
    "    print(\"Performance on test set \",1/2*np.sum(abs(y_optimizer_test-y_test)), \"incorrectly out of \", n_samples//n_splits)"
   ]
  },
  {
   "cell_type": "code",
   "execution_count": 21,
   "metadata": {},
   "outputs": [
    {
     "name": "stdout",
     "output_type": "stream",
     "text": [
      "Average Theta  [ 2.55859895  5.81483645  4.2688842   3.69522472  0.74057347  1.5708151\n",
      "  0.22130815  5.35286524  3.92000898  5.06184274 -0.58707126  5.89740901]\n",
      "Performance on validation set:  17.0 incorrectly out of  25\n",
      "17\n"
     ]
    }
   ],
   "source": [
    "theta_opt_avr = np.mean(thetas, axis=1)\n",
    "X_val, y_val = make_moons(n_samples//n_splits, noise=0.8)\n",
    "\n",
    "y_val = 2*y_val-1\n",
    "y_optimizer_val = np.zeros(len(y_val))\n",
    "for j in range(0, len(y_val)):\n",
    "    y_optimizer_val[j] = (h(X_val[j], theta_opt, 2, 2, shots))\n",
    "\n",
    "print(\"Average Theta \", theta_opt_avr)\n",
    "print(\"Performance on validation set: \",1/2*np.sum(abs(y_optimizer_val-y_val)), \"incorrectly out of \", n_samples//n_splits)\n",
    "print(sum(y_val!=y_optimizer_val))\n",
    "# print(y_val)\n",
    "# print(y_optimizer_val)\n",
    "# print(y_val==y_optimizer_val)"
   ]
  }
 ],
 "metadata": {
  "kernelspec": {
   "display_name": "Python 3",
   "language": "python",
   "name": "python3"
  },
  "language_info": {
   "codemirror_mode": {
    "name": "ipython",
    "version": 3
   },
   "file_extension": ".py",
   "mimetype": "text/x-python",
   "name": "python",
   "nbconvert_exporter": "python",
   "pygments_lexer": "ipython3",
   "version": "3.9.11"
  }
 },
 "nbformat": 4,
 "nbformat_minor": 2
}
