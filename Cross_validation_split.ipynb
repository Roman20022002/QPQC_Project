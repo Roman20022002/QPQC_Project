{
 "cells": [
  {
   "cell_type": "code",
   "execution_count": 3,
   "metadata": {},
   "outputs": [],
   "source": [
    "import numpy as np\n",
    "import matplotlib.pyplot as plt\n",
    "import seaborn as sns\n",
    "\n",
    "\n",
    "from sklearn.datasets import make_moons\n",
    "from sklearn.model_selection import train_test_split \n",
    "from sklearn.datasets import make_blobs \n",
    "from sklearn import svm\n",
    "\n",
    "from W_unitary import *\n",
    "from U_unitary import *\n",
    "\n",
    "%matplotlib inline"
   ]
  },
  {
   "cell_type": "code",
   "execution_count": 30,
   "metadata": {},
   "outputs": [],
   "source": [
    "def cross_validation_split(X,y, ele_per_split, i):\n",
    "    X_train =  np.concatenate((X[:ele_per_split*i,:], X[ ele_per_split*(i+1) :,:]))\n",
    "    X_test = X[ele_per_split*i:ele_per_split*(i+1),:]\n",
    "    y_train = np.concatenate((y[ :ele_per_split*i], y[ele_per_split*(i+1):]))\n",
    "\n",
    "    y_test = y[ ele_per_split*i:ele_per_split*(i+1)]\n",
    "    return X_train, X_test, y_train, y_test"
   ]
  },
  {
   "cell_type": "code",
   "execution_count": 31,
   "metadata": {},
   "outputs": [
    {
     "name": "stdout",
     "output_type": "stream",
     "text": [
      "(75, 2) (25, 2) (75,) (25,)\n",
      "(75, 2) (25, 2) (75,) (25,)\n",
      "(75, 2) (25, 2) (75,) (25,)\n",
      "(75, 2) (25, 2) (75,) (25,)\n"
     ]
    }
   ],
   "source": [
    "n_samples = 100\n",
    "n_splits = 4\n",
    "assert n_samples%n_splits == 0 , \"Make sure n_splits is divisor of n_samples\"\n",
    "ele_per_split = int(n_samples/n_splits)\n",
    "\n",
    "\n",
    "X,y = make_moons(n_samples=n_samples, noise = 0.8)\n",
    "\n",
    "for i in range(n_splits):\n",
    "    X_train, X_test, y_train, y_test = cross_validation_split(X,y, ele_per_split, i)\n",
    "    print(X_train.shape, X_test.shape, y_train.shape, y_test.shape)\n"
   ]
  },
  {
   "cell_type": "code",
   "execution_count": 26,
   "metadata": {},
   "outputs": [
    {
     "name": "stdout",
     "output_type": "stream",
     "text": [
      "0\n",
      "25\n"
     ]
    },
    {
     "data": {
      "text/plain": [
       "(75,)"
      ]
     },
     "execution_count": 26,
     "metadata": {},
     "output_type": "execute_result"
    }
   ],
   "source": [
    "i = 0\n",
    "print(ele_per_split*i)\n",
    "print(ele_per_split*(i+1))\n",
    "np.concatenate((y[ :ele_per_split*i], y[ele_per_split*(i+1):])).shape"
   ]
  }
 ],
 "metadata": {
  "kernelspec": {
   "display_name": "Python 3",
   "language": "python",
   "name": "python3"
  },
  "language_info": {
   "codemirror_mode": {
    "name": "ipython",
    "version": 3
   },
   "file_extension": ".py",
   "mimetype": "text/x-python",
   "name": "python",
   "nbconvert_exporter": "python",
   "pygments_lexer": "ipython3",
   "version": "3.9.11"
  }
 },
 "nbformat": 4,
 "nbformat_minor": 2
}
