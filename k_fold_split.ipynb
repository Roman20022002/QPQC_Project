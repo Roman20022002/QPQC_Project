{
 "cells": [
  {
   "cell_type": "code",
   "execution_count": 7,
   "metadata": {},
   "outputs": [],
   "source": [
    "import numpy as np\n",
    "import matplotlib.pyplot as plt\n",
    "import seaborn as sns\n",
    "\n",
    "from sklearn.datasets import make_moons\n",
    "from sklearn.model_selection import train_test_split \n",
    "from sklearn.datasets import make_blobs \n",
    "from sklearn import svm\n",
    "\n",
    "from W_unitary import *\n",
    "from U_unitary import *\n",
    "\n",
    "%matplotlib inline"
   ]
  },
  {
   "cell_type": "code",
   "execution_count": 8,
   "metadata": {},
   "outputs": [],
   "source": [
    "def k_fold_split(X, y, ele_per_split, i):\n",
    "    \n",
    "    X_train = np.concatenate( (X[:ele_per_split*i, :], X[ele_per_split*(i+1):, :]) )\n",
    "    X_test = X[ele_per_split*i:ele_per_split*(i+1), :]\n",
    "    \n",
    "    y_train = np.concatenate( (y[:ele_per_split*i], y[ele_per_split*(i+1):]) )\n",
    "    y_test = y[ele_per_split*i:ele_per_split*(i+1)]\n",
    "    \n",
    "    return X_train, X_test, y_train, y_test"
   ]
  },
  {
   "cell_type": "code",
   "execution_count": 9,
   "metadata": {},
   "outputs": [
    {
     "name": "stdout",
     "output_type": "stream",
     "text": [
      "(75, 2) (25, 2) (75,) (25,)\n",
      "(75, 2) (25, 2) (75,) (25,)\n",
      "(75, 2) (25, 2) (75,) (25,)\n",
      "(75, 2) (25, 2) (75,) (25,)\n"
     ]
    }
   ],
   "source": [
    "n_samples = 100\n",
    "k = 4\n",
    "assert n_samples%k == 0 #check whether k is a divisor of n_samples\n",
    "ele_per_split = int(n_samples/k)\n",
    "\n",
    "X, y = make_moons(n_samples, noise = 0.3)\n",
    "for i in range(k):\n",
    "    X_train, X_test, y_train, y_test = k_fold_split(X, y, ele_per_split, i)\n",
    "    print(X_train.shape, X_test.shape, y_train.shape, y_test.shape)"
   ]
  },
  {
   "cell_type": "code",
   "execution_count": null,
   "metadata": {},
   "outputs": [],
   "source": []
  }
 ],
 "metadata": {
  "kernelspec": {
   "display_name": "Python 3",
   "language": "python",
   "name": "python3"
  },
  "language_info": {
   "codemirror_mode": {
    "name": "ipython",
    "version": 3
   },
   "file_extension": ".py",
   "mimetype": "text/x-python",
   "name": "python",
   "nbconvert_exporter": "python",
   "pygments_lexer": "ipython3",
   "version": "3.8.8"
  }
 },
 "nbformat": 4,
 "nbformat_minor": 2
}
