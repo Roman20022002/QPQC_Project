{
 "cells": [
  {
   "cell_type": "code",
   "execution_count": 12,
   "metadata": {},
   "outputs": [
    {
     "data": {
      "text/plain": [
       "[(0, 1), (1, 2), (2, 3), (0, 3)]"
      ]
     },
     "execution_count": 12,
     "metadata": {},
     "output_type": "execute_result"
    }
   ],
   "source": [
    "split = [[0,1],[2,3]]\n",
    "\n",
    "n = 4 #total elements\n",
    "k = 2 #elements per split\n",
    "\n",
    "split = []\n",
    "for i in range(n//k):\n",
    "    split.append(range(i*k,(i+1)*k))\n",
    "split.append(range(n-n%k,n))\n",
    "\n",
    "circuit_num =0\n",
    "\n",
    "entangles = []\n",
    "j=0\n",
    "\n",
    "if j%2==0:\n",
    "    for i in range(n-1):\n",
    "        entangles.append((i,i+1))\n",
    "    entangles.append((0,n-1))\n",
    "else:\n",
    "    for i in range(n-1,0,-1):\n",
    "        entangles.append((i-1,i))\n",
    "    entangles.append((0,n-1))\n",
    "\n",
    "entangles\n"
   ]
  },
  {
   "cell_type": "code",
   "execution_count": 27,
   "metadata": {},
   "outputs": [],
   "source": [
    "def theta_gate(qc,theta,i):\n",
    "    assert len(theta) == 3, \"theta incorrect size\"\n",
    "    qc.rx(theta[0],i)\n",
    "    qc.ry(theta[1],i)\n",
    "    qc.rz(theta[2],i)\n",
    "    return 0\n",
    "\n",
    "\n",
    "def split_Z_gates(qc, n, j, indices,dag):\n",
    "    phi = (-1)**dag*(np.pi/2)\n",
    "    B = 2 in indices\n",
    "    if j%2 ==0:\n",
    "        qc.cz(0,1)\n",
    "        qc.p(phi ,1-B)\n",
    "    else:\n",
    "        qc.p(phi ,1)\n",
    "        qc.cz(0,1-B)\n",
    "    return qc\n",
    "    \n",
    "def split_Z_gates_alt(qc, n, j, dag):\n",
    "    phi = (-1)**dag*(np.pi/2)\n",
    "    if j%2 ==0:\n",
    "        qc.cz(0,1)\n",
    "        qc.p(phi ,1)\n",
    "        qc.p(phi ,2)\n",
    "        qc.cz(2,3)\n",
    "    else:\n",
    "        qc.cz(2,3)\n",
    "        qc.p(phi ,2)\n",
    "        qc.p(np.pi/2 ,1)\n",
    "        qc.cz(0,1)\n",
    "    return qc           \n",
    "\n",
    "def W_4_split(qc,theta, n, l, indices,dag):\n",
    "    # Gets 2 qubit circuit, then adds W gate\n",
    "    Theta_matrix = np.reshape(theta, (n,l,3))[indices,:,:]\n",
    "    for j in range(l):\n",
    "        for i in range(2):\n",
    "            theta_gate(qc,Theta_matrix[i,j,:],i)\n",
    "        split_Z_gates(qc, n, j, indices,dag)        \n",
    "    return qc\n",
    "\n",
    "def W_4_split_alt(qc,theta, n, l,dag):\n",
    "    # Gets 4 qubit circuit, then adds W gate\n",
    "    Theta_matrix = np.reshape(theta, (n,l,3))\n",
    "    for j in range(l):\n",
    "        for i in range(n):\n",
    "            theta_gate(qc,Theta_matrix[i,j,:],i)\n",
    "        split_Z_gates_alt(qc, n, j, dag)        \n",
    "    return qc\n",
    "\n",
    "def make_dags(i,splits):\n",
    "    dags = np.zeros(splits)\n",
    "    j=0\n",
    "    for e in bin(i)[2:]:\n",
    "        dags[j] = e\n",
    "        j+=1\n",
    "    return dags"
   ]
  },
  {
   "cell_type": "code",
   "execution_count": 60,
   "metadata": {},
   "outputs": [
    {
     "data": {
      "text/html": [
       "<pre style=\"word-wrap: normal;white-space: pre;background: #fff0;line-height: 1.1;font-family: &quot;Courier New&quot;,Courier,monospace\">     ┌────────────┐┌────────────┐┌────────────┐              \n",
       "q_0: ┤ Rx(5.8342) ├┤ Ry(2.9341) ├┤ Rz(2.2718) ├─■────────────\n",
       "     ├────────────┤├────────────┤├────────────┤ │ ┌─────────┐\n",
       "q_1: ┤ Rx(4.7696) ├┤ Ry(1.3808) ├┤ Rz(5.1104) ├─■─┤ P(-π/2) ├\n",
       "     └────────────┘└────────────┘└────────────┘   └─────────┘</pre>"
      ],
      "text/plain": [
       "     ┌────────────┐┌────────────┐┌────────────┐              \n",
       "q_0: ┤ Rx(5.8342) ├┤ Ry(2.9341) ├┤ Rz(2.2718) ├─■────────────\n",
       "     ├────────────┤├────────────┤├────────────┤ │ ┌─────────┐\n",
       "q_1: ┤ Rx(4.7696) ├┤ Ry(1.3808) ├┤ Rz(5.1104) ├─■─┤ P(-π/2) ├\n",
       "     └────────────┘└────────────┘└────────────┘   └─────────┘"
      ]
     },
     "execution_count": 60,
     "metadata": {},
     "output_type": "execute_result"
    }
   ],
   "source": [
    "import qiskit as qk\n",
    "import numpy as np\n",
    "n = 4\n",
    "d = 1\n",
    "Theta = 2*np.pi*np.random.random(n*d*3)\n",
    "\n",
    "indices = [0,1]\n",
    "qc = qk.QuantumCircuit(2)\n",
    "qc = W_4_split(qc,Theta, n, d,indices, 1)\n",
    "qc.draw()\n",
    "\n",
    "# qc1 = qk.QuantumCircuit(n)\n",
    "# qc1 = W_4_split_alt(qc1,Theta, n, d, 0)\n",
    "# qc1.draw()"
   ]
  },
  {
   "cell_type": "code",
   "execution_count": 53,
   "metadata": {},
   "outputs": [],
   "source": [
    "import qiskit as qk\n",
    "import numpy as np\n",
    "n = 4\n",
    "d = 1\n",
    "Theta = 2*np.pi*np.random.random(n*d*3)\n",
    "\n",
    "splits = d*3\n",
    "N = 2**(splits)\n",
    "qcs = []\n",
    "\n",
    "for i in range(N):\n",
    "    qcs.append(qk.QuantumCircuit(n))\n",
    "    dags = make_dags(i,splits)\n",
    "    for j in range(splits):\n",
    "        W_4_split_alt(qcs[i],Theta, n, d, dags[j])"
   ]
  },
  {
   "cell_type": "code",
   "execution_count": 70,
   "metadata": {},
   "outputs": [],
   "source": [
    "import qiskit as qk\n",
    "import numpy as np\n",
    "n = 4\n",
    "d = 1\n",
    "Theta = 2*np.pi*np.random.random(n*d*3)\n",
    "\n",
    "splits = d*4\n",
    "N = 2**(splits)\n",
    "qcs = []\n",
    "\n",
    "for i in range(N):\n",
    "    if i%2==0:\n",
    "        indices = [0,1]\n",
    "    else:\n",
    "        indices = [2,3]\n",
    "    qcs.append(qk.QuantumCircuit(2))\n",
    "    dags = make_dags(i//2,splits-1)\n",
    "    for j in range(splits-1):\n",
    "        W_4_split(qcs[i],Theta, n, d, indices,dags[j])"
   ]
  },
  {
   "cell_type": "code",
   "execution_count": 79,
   "metadata": {},
   "outputs": [
    {
     "data": {
      "text/html": [
       "<pre style=\"word-wrap: normal;white-space: pre;background: #fff0;line-height: 1.1;font-family: &quot;Courier New&quot;,Courier,monospace\">     ┌────────────┐┌────────────┐┌────────────┐    ┌─────────┐  ┌────────────┐»\n",
       "q_0: ┤ Rx(3.3428) ├┤ Ry(2.3145) ├┤ Rz(2.4515) ├─■──┤ P(-π/2) ├──┤ Rx(3.3428) ├»\n",
       "     ├────────────┤├───────────┬┘├────────────┤ │ ┌┴─────────┴─┐├───────────┬┘»\n",
       "q_1: ┤ Rx(5.9721) ├┤ Ry(2.659) ├─┤ Rz(1.4273) ├─■─┤ Rx(5.9721) ├┤ Ry(2.659) ├─»\n",
       "     └────────────┘└───────────┘ └────────────┘   └────────────┘└───────────┘ »\n",
       "«     ┌────────────┐┌────────────┐    ┌─────────┐  ┌────────────┐┌────────────┐»\n",
       "«q_0: ┤ Ry(2.3145) ├┤ Rz(2.4515) ├─■──┤ P(-π/2) ├──┤ Rx(3.3428) ├┤ Ry(2.3145) ├»\n",
       "«     ├────────────┤└────────────┘ │ ┌┴─────────┴─┐├───────────┬┘├────────────┤»\n",
       "«q_1: ┤ Rz(1.4273) ├───────────────■─┤ Rx(5.9721) ├┤ Ry(2.659) ├─┤ Rz(1.4273) ├»\n",
       "«     └────────────┘                 └────────────┘└───────────┘ └────────────┘»\n",
       "«     ┌────────────┐   ┌────────┐\n",
       "«q_0: ┤ Rz(2.4515) ├─■─┤ P(π/2) ├\n",
       "«     └────────────┘ │ └────────┘\n",
       "«q_1: ───────────────■───────────\n",
       "«                                </pre>"
      ],
      "text/plain": [
       "     ┌────────────┐┌────────────┐┌────────────┐    ┌─────────┐  ┌────────────┐»\n",
       "q_0: ┤ Rx(3.3428) ├┤ Ry(2.3145) ├┤ Rz(2.4515) ├─■──┤ P(-π/2) ├──┤ Rx(3.3428) ├»\n",
       "     ├────────────┤├───────────┬┘├────────────┤ │ ┌┴─────────┴─┐├───────────┬┘»\n",
       "q_1: ┤ Rx(5.9721) ├┤ Ry(2.659) ├─┤ Rz(1.4273) ├─■─┤ Rx(5.9721) ├┤ Ry(2.659) ├─»\n",
       "     └────────────┘└───────────┘ └────────────┘   └────────────┘└───────────┘ »\n",
       "«     ┌────────────┐┌────────────┐    ┌─────────┐  ┌────────────┐┌────────────┐»\n",
       "«q_0: ┤ Ry(2.3145) ├┤ Rz(2.4515) ├─■──┤ P(-π/2) ├──┤ Rx(3.3428) ├┤ Ry(2.3145) ├»\n",
       "«     ├────────────┤└────────────┘ │ ┌┴─────────┴─┐├───────────┬┘├────────────┤»\n",
       "«q_1: ┤ Rz(1.4273) ├───────────────■─┤ Rx(5.9721) ├┤ Ry(2.659) ├─┤ Rz(1.4273) ├»\n",
       "«     └────────────┘                 └────────────┘└───────────┘ └────────────┘»\n",
       "«     ┌────────────┐   ┌────────┐\n",
       "«q_0: ┤ Rz(2.4515) ├─■─┤ P(π/2) ├\n",
       "«     └────────────┘ │ └────────┘\n",
       "«q_1: ───────────────■───────────\n",
       "«                                "
      ]
     },
     "execution_count": 79,
     "metadata": {},
     "output_type": "execute_result"
    }
   ],
   "source": [
    "qcs[13].draw()"
   ]
  }
 ],
 "metadata": {
  "kernelspec": {
   "display_name": "Python 3",
   "language": "python",
   "name": "python3"
  },
  "language_info": {
   "codemirror_mode": {
    "name": "ipython",
    "version": 3
   },
   "file_extension": ".py",
   "mimetype": "text/x-python",
   "name": "python",
   "nbconvert_exporter": "python",
   "pygments_lexer": "ipython3",
   "version": "3.9.11"
  }
 },
 "nbformat": 4,
 "nbformat_minor": 2
}
