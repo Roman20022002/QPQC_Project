{
 "cells": [
  {
   "cell_type": "code",
   "execution_count": 1,
   "metadata": {},
   "outputs": [],
   "source": [
    "import qiskit as qk\n",
    "import numpy as np\n",
    "import itertools"
   ]
  },
  {
   "cell_type": "code",
   "execution_count": 2,
   "metadata": {},
   "outputs": [
    {
     "data": {
      "text/html": [
       "<pre style=\"word-wrap: normal;white-space: pre;background: #fff0;line-height: 1.1;font-family: &quot;Courier New&quot;,Courier,monospace\">     ┌───┐┌──────┐                                                   »\n",
       "q_0: ┤ H ├┤ P(2) ├──■─────────────────■──────────────────────────────»\n",
       "     ├───┤├──────┤┌─┴─┐┌───────────┐┌─┴─┐                            »\n",
       "q_1: ┤ H ├┤ P(4) ├┤ X ├┤ P(14.444) ├┤ X ├──■─────────────────■───────»\n",
       "     ├───┤├──────┤└───┘└───────────┘└───┘┌─┴─┐┌───────────┐┌─┴─┐     »\n",
       "q_2: ┤ H ├┤ P(6) ├───────────────────────┤ X ├┤ P(16.718) ├┤ X ├──■──»\n",
       "     ├───┤├──────┤                       └───┘└───────────┘└───┘┌─┴─┐»\n",
       "q_3: ┤ H ├┤ P(8) ├──────────────────────────────────────────────┤ X ├»\n",
       "     └───┘└──────┘                                              └───┘»\n",
       "«                       \n",
       "«q_0: ──────────────────\n",
       "«                       \n",
       "«q_1: ──────────────────\n",
       "«                       \n",
       "«q_2: ───────────────■──\n",
       "«     ┌───────────┐┌─┴─┐\n",
       "«q_3: ┤ P(17.894) ├┤ X ├\n",
       "«     └───────────┘└───┘</pre>"
      ],
      "text/plain": [
       "     ┌───┐┌──────┐                                                   »\n",
       "q_0: ┤ H ├┤ P(2) ├──■─────────────────■──────────────────────────────»\n",
       "     ├───┤├──────┤┌─┴─┐┌───────────┐┌─┴─┐                            »\n",
       "q_1: ┤ H ├┤ P(4) ├┤ X ├┤ P(14.444) ├┤ X ├──■─────────────────■───────»\n",
       "     ├───┤├──────┤└───┘└───────────┘└───┘┌─┴─┐┌───────────┐┌─┴─┐     »\n",
       "q_2: ┤ H ├┤ P(6) ├───────────────────────┤ X ├┤ P(16.718) ├┤ X ├──■──»\n",
       "     ├───┤├──────┤                       └───┘└───────────┘└───┘┌─┴─┐»\n",
       "q_3: ┤ H ├┤ P(8) ├──────────────────────────────────────────────┤ X ├»\n",
       "     └───┘└──────┘                                              └───┘»\n",
       "«                       \n",
       "«q_0: ──────────────────\n",
       "«                       \n",
       "«q_1: ──────────────────\n",
       "«                       \n",
       "«q_2: ───────────────■──\n",
       "«     ┌───────────┐┌─┴─┐\n",
       "«q_3: ┤ P(17.894) ├┤ X ├\n",
       "«     └───────────┘└───┘"
      ]
     },
     "execution_count": 2,
     "metadata": {},
     "output_type": "execute_result"
    }
   ],
   "source": [
    "#Original circuit:\n",
    "#Create subset S with |S| <= 2:\n",
    "def S(n):\n",
    "    numbers = list(range(1,n+1))\n",
    "    combinations = list(itertools.combinations(numbers,2))\n",
    "\n",
    "    #Combine numbers and combinations into one list\n",
    "    S = numbers+combinations\n",
    "\n",
    "    return S\n",
    "\n",
    "def phi_ij(xi,xj):\n",
    "    return (np.pi-xi)*(np.pi-xj)\n",
    "\n",
    "#Initialize quantum circuit with n qubits\n",
    "n = 4\n",
    "d = 1\n",
    "x = np.array([0.6,0.3,0.2,0.1])\n",
    "circuit = qk.QuantumCircuit(n,0)\n",
    "\n",
    "def U_single(x,n,circuit):\n",
    "    assert len(x) == n, \"x must be of length n\" \n",
    "\n",
    "    set = S(n)\n",
    "    \n",
    "    for i in set:\n",
    "        if type(i) == int:\n",
    "            theta = 2*i\n",
    "            circuit.p(theta,i-1)\n",
    "        else:\n",
    "            if abs(i[0]-i[1])>1:\n",
    "                continue\n",
    "            else:\n",
    "                theta = 2*phi_ij(x[i[0]-1],x[i[1]-1])\n",
    "                circuit.cx(i[0]-1,i[1]-1)\n",
    "                circuit.p(theta,i[1]-1)\n",
    "                circuit.cx(i[0]-1,i[1]-1)\n",
    "\n",
    "    return 0\n",
    "\n",
    "def Hn(n,circuit):\n",
    "    circuit.h(range(n))\n",
    "    return 0\n",
    "\n",
    "def U(x,n,d):\n",
    "    circuit = qk.QuantumCircuit(n,0)\n",
    "    for i in range(d):\n",
    "        Hn(n,circuit)\n",
    "        U_single(x,n,circuit)\n",
    "    return circuit\n",
    "\n",
    "U = U(x,n,d)\n",
    "U.draw()"
   ]
  },
  {
   "cell_type": "code",
   "execution_count": 8,
   "metadata": {},
   "outputs": [
    {
     "name": "stderr",
     "output_type": "stream",
     "text": [
      "/tmp/ipykernel_454/4108059499.py:11: DeprecationWarning: The method ``qiskit.circuit.quantumcircuit.QuantumCircuit.cnot()`` is deprecated as of qiskit 0.45.0. It will be removed no earlier than 3 months after the release date. Use QuantumCircuit.cx as direct replacement.\n",
      "  circuit.cnot(0,1)\n",
      "/tmp/ipykernel_454/4108059499.py:16: DeprecationWarning: The method ``qiskit.circuit.quantumcircuit.QuantumCircuit.cnot()`` is deprecated as of qiskit 0.45.0. It will be removed no earlier than 3 months after the release date. Use QuantumCircuit.cx as direct replacement.\n",
      "  circuit.cnot(0,1)\n"
     ]
    },
    {
     "data": {
      "text/html": [
       "<pre style=\"word-wrap: normal;white-space: pre;background: #fff0;line-height: 1.1;font-family: &quot;Courier New&quot;,Courier,monospace\">     ┌───┐┌────────┐                                 \n",
       "q_0: ┤ H ├┤ P(1.2) ├──■─────────────────■────────────\n",
       "     ├───┤├────────┤┌─┴─┐┌───────────┐┌─┴─┐┌───┐┌───┐\n",
       "q_1: ┤ H ├┤ P(0.6) ├┤ X ├┤ P(7.2222) ├┤ X ├┤ S ├┤ S ├\n",
       "     └───┘└────────┘└───┘└───────────┘└───┘└───┘└───┘</pre>"
      ],
      "text/plain": [
       "     ┌───┐┌────────┐                                 \n",
       "q_0: ┤ H ├┤ P(1.2) ├──■─────────────────■────────────\n",
       "     ├───┤├────────┤┌─┴─┐┌───────────┐┌─┴─┐┌───┐┌───┐\n",
       "q_1: ┤ H ├┤ P(0.6) ├┤ X ├┤ P(7.2222) ├┤ X ├┤ S ├┤ S ├\n",
       "     └───┘└────────┘└───┘└───────────┘└───┘└───┘└───┘"
      ]
     },
     "execution_count": 8,
     "metadata": {},
     "output_type": "execute_result"
    }
   ],
   "source": [
    "#U_t1 \n",
    "def U_t1(x,n_simulate,circuit_simulate):\n",
    "    circuit = circuit_simulate\n",
    "    x = x[:2]\n",
    "\n",
    "    circuit.h(range(n_simulate))\n",
    "\n",
    "    circuit.p(2*x[0],0)\n",
    "    circuit.p(2*x[1],1)\n",
    "\n",
    "    circuit.cnot(0,1)\n",
    "\n",
    "    # circuit.i(0)\n",
    "    circuit.p(phi_ij(x[0],x[1]),1)\n",
    "\n",
    "    circuit.cnot(0,1)\n",
    "\n",
    "    # circuit.i(0)\n",
    "    circuit.s(1)\n",
    "\n",
    "    # circuit.i(0)\n",
    "    circuit.s(1)\n",
    "\n",
    "    return circuit\n",
    "\n",
    "#test\n",
    "x = np.array([0.6,0.3,0.2,0.1])\n",
    "n_simulate = 2\n",
    "circuit_simulate = qk.QuantumCircuit(n_simulate,0)\n",
    "\n",
    "U_t1 = U_t1(x,n_simulate,circuit_simulate)\n",
    "U_t1.draw()\n"
   ]
  },
  {
   "cell_type": "code",
   "execution_count": 9,
   "metadata": {},
   "outputs": [
    {
     "name": "stderr",
     "output_type": "stream",
     "text": [
      "/tmp/ipykernel_454/3859701154.py:11: DeprecationWarning: The method ``qiskit.circuit.quantumcircuit.QuantumCircuit.cnot()`` is deprecated as of qiskit 0.45.0. It will be removed no earlier than 3 months after the release date. Use QuantumCircuit.cx as direct replacement.\n",
      "  circuit.cnot(0,1)\n",
      "/tmp/ipykernel_454/3859701154.py:15: DeprecationWarning: The method ``qiskit.circuit.quantumcircuit.QuantumCircuit.cnot()`` is deprecated as of qiskit 0.45.0. It will be removed no earlier than 3 months after the release date. Use QuantumCircuit.cx as direct replacement.\n",
      "  circuit.cnot(0,1)\n"
     ]
    },
    {
     "data": {
      "text/html": [
       "<pre style=\"word-wrap: normal;white-space: pre;background: #fff0;line-height: 1.1;font-family: &quot;Courier New&quot;,Courier,monospace\">     ┌───┐┌────────┐                       \n",
       "q_0: ┤ H ├┤ P(1.2) ├──■─────────────────■──\n",
       "     ├───┤├────────┤┌─┴─┐┌───────────┐┌─┴─┐\n",
       "q_1: ┤ H ├┤ P(0.6) ├┤ X ├┤ P(7.2222) ├┤ X ├\n",
       "     └───┘└────────┘└───┘└───────────┘└───┘</pre>"
      ],
      "text/plain": [
       "     ┌───┐┌────────┐                       \n",
       "q_0: ┤ H ├┤ P(1.2) ├──■─────────────────■──\n",
       "     ├───┤├────────┤┌─┴─┐┌───────────┐┌─┴─┐\n",
       "q_1: ┤ H ├┤ P(0.6) ├┤ X ├┤ P(7.2222) ├┤ X ├\n",
       "     └───┘└────────┘└───┘└───────────┘└───┘"
      ]
     },
     "execution_count": 9,
     "metadata": {},
     "output_type": "execute_result"
    }
   ],
   "source": [
    "#U_t23\n",
    "def U_t23(x,n_simulate,circuit_simulate):\n",
    "    circuit = circuit_simulate\n",
    "    x = x[:2]\n",
    "\n",
    "    circuit.h(range(n_simulate))\n",
    "\n",
    "    circuit.p(2*x[0],0)\n",
    "    circuit.p(2*x[1],1)\n",
    "\n",
    "    circuit.cnot(0,1)\n",
    "\n",
    "    circuit.p(phi_ij(x[0],x[1]),1)\n",
    "\n",
    "    circuit.cnot(0,1)\n",
    "\n",
    "    return circuit\n",
    "\n",
    "#test\n",
    "x = np.array([0.6,0.3,0.2,0.1])\n",
    "n_simulate = 2\n",
    "circuit_simulate = qk.QuantumCircuit(n_simulate,0)\n",
    "\n",
    "U_t23 = U_t23(x,n_simulate,circuit_simulate)\n",
    "U_t23.draw()"
   ]
  },
  {
   "cell_type": "code",
   "execution_count": 13,
   "metadata": {},
   "outputs": [
    {
     "name": "stderr",
     "output_type": "stream",
     "text": [
      "/tmp/ipykernel_454/3477724376.py:11: DeprecationWarning: The method ``qiskit.circuit.quantumcircuit.QuantumCircuit.cnot()`` is deprecated as of qiskit 0.45.0. It will be removed no earlier than 3 months after the release date. Use QuantumCircuit.cx as direct replacement.\n",
      "  circuit.cnot(0,1)\n",
      "/tmp/ipykernel_454/3477724376.py:16: DeprecationWarning: The method ``qiskit.circuit.quantumcircuit.QuantumCircuit.cnot()`` is deprecated as of qiskit 0.45.0. It will be removed no earlier than 3 months after the release date. Use QuantumCircuit.cx as direct replacement.\n",
      "  circuit.cnot(0,1)\n"
     ]
    },
    {
     "data": {
      "text/html": [
       "<pre style=\"word-wrap: normal;white-space: pre;background: #fff0;line-height: 1.1;font-family: &quot;Courier New&quot;,Courier,monospace\">     ┌───┐┌────────┐                                     \n",
       "q_0: ┤ H ├┤ P(0.4) ├──■─────────────────■────────────────\n",
       "     ├───┤├────────┤┌─┴─┐┌───────────┐┌─┴─┐┌─────┐┌─────┐\n",
       "q_1: ┤ H ├┤ P(0.2) ├┤ X ├┤ P(8.9471) ├┤ X ├┤ Sdg ├┤ Sdg ├\n",
       "     └───┘└────────┘└───┘└───────────┘└───┘└─────┘└─────┘</pre>"
      ],
      "text/plain": [
       "     ┌───┐┌────────┐                                     \n",
       "q_0: ┤ H ├┤ P(0.4) ├──■─────────────────■────────────────\n",
       "     ├───┤├────────┤┌─┴─┐┌───────────┐┌─┴─┐┌─────┐┌─────┐\n",
       "q_1: ┤ H ├┤ P(0.2) ├┤ X ├┤ P(8.9471) ├┤ X ├┤ Sdg ├┤ Sdg ├\n",
       "     └───┘└────────┘└───┘└───────────┘└───┘└─────┘└─────┘"
      ]
     },
     "execution_count": 13,
     "metadata": {},
     "output_type": "execute_result"
    }
   ],
   "source": [
    "#U_t4\n",
    "def U_t4(x,n_simulate,circuit_simulate):\n",
    "    circuit = circuit_simulate\n",
    "    x = x[2:]\n",
    "\n",
    "    circuit.h(range(n_simulate))\n",
    "\n",
    "    circuit.p(2*x[0],0)\n",
    "    circuit.p(2*x[1],1)\n",
    "\n",
    "    circuit.cnot(0,1)\n",
    "\n",
    "    # circuit.i(0)\n",
    "    circuit.p(phi_ij(x[0],x[1]),1)\n",
    "\n",
    "    circuit.cnot(0,1)\n",
    "\n",
    "    circuit.sdg(1)\n",
    "\n",
    "    circuit.sdg(1)\n",
    "\n",
    "    return circuit\n",
    "\n",
    "#test\n",
    "x = np.array([0.6,0.3,0.2,0.1])\n",
    "n_simulate = 2\n",
    "circuit_simulate = qk.QuantumCircuit(n_simulate,0)\n",
    "\n",
    "U_t4 = U_t4(x,n_simulate,circuit_simulate)\n",
    "U_t4.draw()"
   ]
  },
  {
   "cell_type": "code",
   "execution_count": 19,
   "metadata": {},
   "outputs": [
    {
     "name": "stderr",
     "output_type": "stream",
     "text": [
      "/tmp/ipykernel_454/725105079.py:21: DeprecationWarning: The method ``qiskit.circuit.quantumcircuit.QuantumCircuit.cnot()`` is deprecated as of qiskit 0.45.0. It will be removed no earlier than 3 months after the release date. Use QuantumCircuit.cx as direct replacement.\n",
      "  circuit.cnot(0,1)\n",
      "/tmp/ipykernel_454/725105079.py:25: DeprecationWarning: The method ``qiskit.circuit.quantumcircuit.QuantumCircuit.cnot()`` is deprecated as of qiskit 0.45.0. It will be removed no earlier than 3 months after the release date. Use QuantumCircuit.cx as direct replacement.\n",
      "  circuit.cnot(0,1)\n"
     ]
    },
    {
     "data": {
      "text/html": [
       "<pre style=\"word-wrap: normal;white-space: pre;background: #fff0;line-height: 1.1;font-family: &quot;Courier New&quot;,Courier,monospace\">     ┌───┐┌────────┐┌───┐┌───┐┌───┐┌───────────┐┌───┐┌───┐┌───┐     »\n",
       "q_0: ┤ H ├┤ P(0.4) ├┤ H ├┤ S ├┤ H ├┤ P(8.9471) ├┤ H ├┤ S ├┤ H ├──■──»\n",
       "     ├───┤├────────┤└───┘└───┘└───┘└───────────┘└───┘└───┘└───┘┌─┴─┐»\n",
       "q_1: ┤ H ├┤ P(0.2) ├───────────────────────────────────────────┤ X ├»\n",
       "     └───┘└────────┘                                           └───┘»\n",
       "«                       \n",
       "«q_0: ───────────────■──\n",
       "«     ┌───────────┐┌─┴─┐\n",
       "«q_1: ┤ P(8.9471) ├┤ X ├\n",
       "«     └───────────┘└───┘</pre>"
      ],
      "text/plain": [
       "     ┌───┐┌────────┐┌───┐┌───┐┌───┐┌───────────┐┌───┐┌───┐┌───┐     »\n",
       "q_0: ┤ H ├┤ P(0.4) ├┤ H ├┤ S ├┤ H ├┤ P(8.9471) ├┤ H ├┤ S ├┤ H ├──■──»\n",
       "     ├───┤├────────┤└───┘└───┘└───┘└───────────┘└───┘└───┘└───┘┌─┴─┐»\n",
       "q_1: ┤ H ├┤ P(0.2) ├───────────────────────────────────────────┤ X ├»\n",
       "     └───┘└────────┘                                           └───┘»\n",
       "«                       \n",
       "«q_0: ───────────────■──\n",
       "«     ┌───────────┐┌─┴─┐\n",
       "«q_1: ┤ P(8.9471) ├┤ X ├\n",
       "«     └───────────┘└───┘"
      ]
     },
     "execution_count": 19,
     "metadata": {},
     "output_type": "execute_result"
    }
   ],
   "source": [
    "#U_b1\n",
    "def U_b1(x,n_simulate,circuit_simulate):\n",
    "    circuit = circuit_simulate\n",
    "    x = x[2:]\n",
    "\n",
    "    circuit.h(range(n_simulate))\n",
    "\n",
    "    circuit.p(2*x[0],0)\n",
    "    circuit.p(2*x[1],1)\n",
    "\n",
    "    circuit.h(0)\n",
    "    circuit.s(0)\n",
    "    circuit.h(0)\n",
    "\n",
    "    circuit.p(phi_ij(x[0],x[1]),0)\n",
    "\n",
    "    circuit.h(0)\n",
    "    circuit.s(0)\n",
    "\n",
    "    circuit.h(0)\n",
    "    circuit.cnot(0,1)\n",
    "\n",
    "    circuit.p(phi_ij(x[0],x[1]),1)\n",
    "\n",
    "    circuit.cnot(0,1)\n",
    "\n",
    "    return circuit\n",
    "\n",
    "#test\n",
    "x = np.array([0.6,0.3,0.2,0.1])\n",
    "n_simulate = 2\n",
    "circuit_simulate = qk.QuantumCircuit(n_simulate,0)\n",
    "\n",
    "U_b1 = U_b1(x,n_simulate,circuit_simulate)\n",
    "U_b1.draw()"
   ]
  },
  {
   "cell_type": "code",
   "execution_count": 20,
   "metadata": {},
   "outputs": [
    {
     "name": "stderr",
     "output_type": "stream",
     "text": [
      "/tmp/ipykernel_454/35107222.py:21: DeprecationWarning: The method ``qiskit.circuit.quantumcircuit.QuantumCircuit.cnot()`` is deprecated as of qiskit 0.45.0. It will be removed no earlier than 3 months after the release date. Use QuantumCircuit.cx as direct replacement.\n",
      "  circuit.cnot(0,1)\n",
      "/tmp/ipykernel_454/35107222.py:25: DeprecationWarning: The method ``qiskit.circuit.quantumcircuit.QuantumCircuit.cnot()`` is deprecated as of qiskit 0.45.0. It will be removed no earlier than 3 months after the release date. Use QuantumCircuit.cx as direct replacement.\n",
      "  circuit.cnot(0,1)\n"
     ]
    },
    {
     "data": {
      "text/html": [
       "<pre style=\"word-wrap: normal;white-space: pre;background: #fff0;line-height: 1.1;font-family: &quot;Courier New&quot;,Courier,monospace\">     ┌───┐┌────────┐┌───┐┌───┐┌───┐┌───────────┐┌───┐┌─────┐┌───┐     »\n",
       "q_0: ┤ H ├┤ P(0.4) ├┤ H ├┤ S ├┤ H ├┤ P(8.9471) ├┤ H ├┤ Sdg ├┤ H ├──■──»\n",
       "     ├───┤├────────┤└───┘└───┘└───┘└───────────┘└───┘└─────┘└───┘┌─┴─┐»\n",
       "q_1: ┤ H ├┤ P(0.2) ├─────────────────────────────────────────────┤ X ├»\n",
       "     └───┘└────────┘                                             └───┘»\n",
       "«                       \n",
       "«q_0: ───────────────■──\n",
       "«     ┌───────────┐┌─┴─┐\n",
       "«q_1: ┤ P(8.9471) ├┤ X ├\n",
       "«     └───────────┘└───┘</pre>"
      ],
      "text/plain": [
       "     ┌───┐┌────────┐┌───┐┌───┐┌───┐┌───────────┐┌───┐┌─────┐┌───┐     »\n",
       "q_0: ┤ H ├┤ P(0.4) ├┤ H ├┤ S ├┤ H ├┤ P(8.9471) ├┤ H ├┤ Sdg ├┤ H ├──■──»\n",
       "     ├───┤├────────┤└───┘└───┘└───┘└───────────┘└───┘└─────┘└───┘┌─┴─┐»\n",
       "q_1: ┤ H ├┤ P(0.2) ├─────────────────────────────────────────────┤ X ├»\n",
       "     └───┘└────────┘                                             └───┘»\n",
       "«                       \n",
       "«q_0: ───────────────■──\n",
       "«     ┌───────────┐┌─┴─┐\n",
       "«q_1: ┤ P(8.9471) ├┤ X ├\n",
       "«     └───────────┘└───┘"
      ]
     },
     "execution_count": 20,
     "metadata": {},
     "output_type": "execute_result"
    }
   ],
   "source": [
    "#U_b2\n",
    "def U_b2(x,n_simulate,circuit_simulate):\n",
    "    circuit = circuit_simulate\n",
    "    x = x[2:]\n",
    "\n",
    "    circuit.h(range(n_simulate))\n",
    "\n",
    "    circuit.p(2*x[0],0)\n",
    "    circuit.p(2*x[1],1)\n",
    "\n",
    "    circuit.h(0)\n",
    "    circuit.s(0)\n",
    "    circuit.h(0)\n",
    "\n",
    "    circuit.p(phi_ij(x[0],x[1]),0)\n",
    "\n",
    "    circuit.h(0)\n",
    "    circuit.sdg(0)\n",
    "\n",
    "    circuit.h(0)\n",
    "    circuit.cnot(0,1)\n",
    "\n",
    "    circuit.p(phi_ij(x[0],x[1]),1)\n",
    "\n",
    "    circuit.cnot(0,1)\n",
    "\n",
    "    return circuit\n",
    "\n",
    "#test\n",
    "x = np.array([0.6,0.3,0.2,0.1])\n",
    "n_simulate = 2\n",
    "circuit_simulate = qk.QuantumCircuit(n_simulate,0)\n",
    "\n",
    "U_b2 = U_b2(x,n_simulate,circuit_simulate)\n",
    "U_b2.draw()"
   ]
  },
  {
   "cell_type": "code",
   "execution_count": 21,
   "metadata": {},
   "outputs": [
    {
     "name": "stderr",
     "output_type": "stream",
     "text": [
      "/tmp/ipykernel_454/3762313135.py:21: DeprecationWarning: The method ``qiskit.circuit.quantumcircuit.QuantumCircuit.cnot()`` is deprecated as of qiskit 0.45.0. It will be removed no earlier than 3 months after the release date. Use QuantumCircuit.cx as direct replacement.\n",
      "  circuit.cnot(0,1)\n",
      "/tmp/ipykernel_454/3762313135.py:25: DeprecationWarning: The method ``qiskit.circuit.quantumcircuit.QuantumCircuit.cnot()`` is deprecated as of qiskit 0.45.0. It will be removed no earlier than 3 months after the release date. Use QuantumCircuit.cx as direct replacement.\n",
      "  circuit.cnot(0,1)\n"
     ]
    },
    {
     "data": {
      "text/html": [
       "<pre style=\"word-wrap: normal;white-space: pre;background: #fff0;line-height: 1.1;font-family: &quot;Courier New&quot;,Courier,monospace\">     ┌───┐┌────────┐┌───┐┌─────┐┌───┐┌───────────┐┌───┐┌───┐┌───┐     »\n",
       "q_0: ┤ H ├┤ P(0.4) ├┤ H ├┤ Sdg ├┤ H ├┤ P(8.9471) ├┤ H ├┤ S ├┤ H ├──■──»\n",
       "     ├───┤├────────┤└───┘└─────┘└───┘└───────────┘└───┘└───┘└───┘┌─┴─┐»\n",
       "q_1: ┤ H ├┤ P(0.2) ├─────────────────────────────────────────────┤ X ├»\n",
       "     └───┘└────────┘                                             └───┘»\n",
       "«                       \n",
       "«q_0: ───────────────■──\n",
       "«     ┌───────────┐┌─┴─┐\n",
       "«q_1: ┤ P(8.9471) ├┤ X ├\n",
       "«     └───────────┘└───┘</pre>"
      ],
      "text/plain": [
       "     ┌───┐┌────────┐┌───┐┌─────┐┌───┐┌───────────┐┌───┐┌───┐┌───┐     »\n",
       "q_0: ┤ H ├┤ P(0.4) ├┤ H ├┤ Sdg ├┤ H ├┤ P(8.9471) ├┤ H ├┤ S ├┤ H ├──■──»\n",
       "     ├───┤├────────┤└───┘└─────┘└───┘└───────────┘└───┘└───┘└───┘┌─┴─┐»\n",
       "q_1: ┤ H ├┤ P(0.2) ├─────────────────────────────────────────────┤ X ├»\n",
       "     └───┘└────────┘                                             └───┘»\n",
       "«                       \n",
       "«q_0: ───────────────■──\n",
       "«     ┌───────────┐┌─┴─┐\n",
       "«q_1: ┤ P(8.9471) ├┤ X ├\n",
       "«     └───────────┘└───┘"
      ]
     },
     "execution_count": 21,
     "metadata": {},
     "output_type": "execute_result"
    }
   ],
   "source": [
    "#U_b3\n",
    "def U_b3(x,n_simulate,circuit_simulate):\n",
    "    circuit = circuit_simulate\n",
    "    x = x[2:]\n",
    "\n",
    "    circuit.h(range(n_simulate))\n",
    "\n",
    "    circuit.p(2*x[0],0)\n",
    "    circuit.p(2*x[1],1)\n",
    "\n",
    "    circuit.h(0)\n",
    "    circuit.sdg(0)\n",
    "    circuit.h(0)\n",
    "\n",
    "    circuit.p(phi_ij(x[0],x[1]),0)\n",
    "\n",
    "    circuit.h(0)\n",
    "    circuit.s(0)\n",
    "\n",
    "    circuit.h(0)\n",
    "    circuit.cnot(0,1)\n",
    "\n",
    "    circuit.p(phi_ij(x[0],x[1]),1)\n",
    "\n",
    "    circuit.cnot(0,1)\n",
    "\n",
    "    return circuit\n",
    "\n",
    "#test\n",
    "x = np.array([0.6,0.3,0.2,0.1])\n",
    "n_simulate = 2\n",
    "circuit_simulate = qk.QuantumCircuit(n_simulate,0)\n",
    "\n",
    "U_b3 = U_b3(x,n_simulate,circuit_simulate)\n",
    "U_b3.draw()"
   ]
  },
  {
   "cell_type": "code",
   "execution_count": 22,
   "metadata": {},
   "outputs": [
    {
     "name": "stderr",
     "output_type": "stream",
     "text": [
      "/tmp/ipykernel_454/4035354501.py:21: DeprecationWarning: The method ``qiskit.circuit.quantumcircuit.QuantumCircuit.cnot()`` is deprecated as of qiskit 0.45.0. It will be removed no earlier than 3 months after the release date. Use QuantumCircuit.cx as direct replacement.\n",
      "  circuit.cnot(0,1)\n",
      "/tmp/ipykernel_454/4035354501.py:25: DeprecationWarning: The method ``qiskit.circuit.quantumcircuit.QuantumCircuit.cnot()`` is deprecated as of qiskit 0.45.0. It will be removed no earlier than 3 months after the release date. Use QuantumCircuit.cx as direct replacement.\n",
      "  circuit.cnot(0,1)\n"
     ]
    },
    {
     "data": {
      "text/html": [
       "<pre style=\"word-wrap: normal;white-space: pre;background: #fff0;line-height: 1.1;font-family: &quot;Courier New&quot;,Courier,monospace\">     ┌───┐┌────────┐┌───┐┌─────┐┌───┐┌───────────┐┌───┐┌─────┐┌───┐     »\n",
       "q_0: ┤ H ├┤ P(0.4) ├┤ H ├┤ Sdg ├┤ H ├┤ P(8.9471) ├┤ H ├┤ Sdg ├┤ H ├──■──»\n",
       "     ├───┤├────────┤└───┘└─────┘└───┘└───────────┘└───┘└─────┘└───┘┌─┴─┐»\n",
       "q_1: ┤ H ├┤ P(0.2) ├───────────────────────────────────────────────┤ X ├»\n",
       "     └───┘└────────┘                                               └───┘»\n",
       "«                       \n",
       "«q_0: ───────────────■──\n",
       "«     ┌───────────┐┌─┴─┐\n",
       "«q_1: ┤ P(8.9471) ├┤ X ├\n",
       "«     └───────────┘└───┘</pre>"
      ],
      "text/plain": [
       "     ┌───┐┌────────┐┌───┐┌─────┐┌───┐┌───────────┐┌───┐┌─────┐┌───┐     »\n",
       "q_0: ┤ H ├┤ P(0.4) ├┤ H ├┤ Sdg ├┤ H ├┤ P(8.9471) ├┤ H ├┤ Sdg ├┤ H ├──■──»\n",
       "     ├───┤├────────┤└───┘└─────┘└───┘└───────────┘└───┘└─────┘└───┘┌─┴─┐»\n",
       "q_1: ┤ H ├┤ P(0.2) ├───────────────────────────────────────────────┤ X ├»\n",
       "     └───┘└────────┘                                               └───┘»\n",
       "«                       \n",
       "«q_0: ───────────────■──\n",
       "«     ┌───────────┐┌─┴─┐\n",
       "«q_1: ┤ P(8.9471) ├┤ X ├\n",
       "«     └───────────┘└───┘"
      ]
     },
     "execution_count": 22,
     "metadata": {},
     "output_type": "execute_result"
    }
   ],
   "source": [
    "#U_b4\n",
    "def U_b4(x,n_simulate,circuit_simulate):\n",
    "    circuit = circuit_simulate\n",
    "    x = x[2:]\n",
    "\n",
    "    circuit.h(range(n_simulate))\n",
    "\n",
    "    circuit.p(2*x[0],0)\n",
    "    circuit.p(2*x[1],1)\n",
    "\n",
    "    circuit.h(0)\n",
    "    circuit.sdg(0)\n",
    "    circuit.h(0)\n",
    "\n",
    "    circuit.p(phi_ij(x[0],x[1]),0)\n",
    "\n",
    "    circuit.h(0)\n",
    "    circuit.sdg(0)\n",
    "\n",
    "    circuit.h(0)\n",
    "    circuit.cnot(0,1)\n",
    "\n",
    "    circuit.p(phi_ij(x[0],x[1]),1)\n",
    "\n",
    "    circuit.cnot(0,1)\n",
    "\n",
    "    return circuit\n",
    "\n",
    "#test\n",
    "x = np.array([0.6,0.3,0.2,0.1])\n",
    "n_simulate = 2\n",
    "circuit_simulate = qk.QuantumCircuit(n_simulate,0)\n",
    "\n",
    "U_b4 = U_b4(x,n_simulate,circuit_simulate)\n",
    "U_b4.draw()"
   ]
  },
  {
   "cell_type": "code",
   "execution_count": null,
   "metadata": {},
   "outputs": [],
   "source": []
  }
 ],
 "metadata": {
  "kernelspec": {
   "display_name": "QCQP",
   "language": "python",
   "name": "python3"
  },
  "language_info": {
   "codemirror_mode": {
    "name": "ipython",
    "version": 3
   },
   "file_extension": ".py",
   "mimetype": "text/x-python",
   "name": "python",
   "nbconvert_exporter": "python",
   "pygments_lexer": "ipython3",
   "version": "3.10.12"
  }
 },
 "nbformat": 4,
 "nbformat_minor": 2
}
