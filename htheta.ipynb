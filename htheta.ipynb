{
 "cells": [
  {
   "cell_type": "code",
   "execution_count": 51,
   "metadata": {},
   "outputs": [],
   "source": [
    "import numpy as np\n",
    "import qiskit as qk\n",
    "from U_unitary import * \n",
    "from W_unitary import *\n",
    "from qiskit import Aer\n"
   ]
  },
  {
   "cell_type": "code",
   "execution_count": 91,
   "metadata": {},
   "outputs": [
    {
     "name": "stdout",
     "output_type": "stream",
     "text": [
      "Expectation value of Z^n:  -0.439453125\n",
      "Test:  -1\n"
     ]
    }
   ],
   "source": [
    "x = np.array([0.6,0.3])\n",
    "n = 2\n",
    "d = 2\n",
    "theta = np.round(np.random.rand(n,d,3),2)\n",
    "shots = 1024\n",
    "\n",
    "#build circuit\n",
    "def circuit(x,theta,n,d):\n",
    "\n",
    "    circuit = qk.QuantumCircuit(n,n)\n",
    "    circuit = U(circuit,x,n,d)\n",
    "    circuit = W(circuit,theta,n,d)\n",
    "    \n",
    "    #Add measurement to circuit\n",
    "    circuit.measure(range(n),range(n))\n",
    "\n",
    "    return circuit\n",
    "\n",
    "#Define function h\n",
    "def h(x,theta,n,d,shots):\n",
    "    #run circuit\n",
    "    simulator = Aer.get_backend('aer_simulator',shots=shots)\n",
    "    job = circuit(x,theta,n,d)\n",
    "    result = simulator.run(job).result()\n",
    "\n",
    "    #Get counts and normalize them\n",
    "    counts = result.get_counts()\n",
    "    total_counts = sum(counts.values())\n",
    "    counts_normalized = {state: counts[state]/total_counts for state in counts}\n",
    "\n",
    "    #Get keys of dictionary\n",
    "    keys = list(counts_normalized.keys())\n",
    "\n",
    "    #Calculate expectation value of Z^n \n",
    "    expectation_value = 0\n",
    "    for i in range(len(keys)):\n",
    "        tmp = keys[i]\n",
    "\n",
    "        #Extract number of zeros and ones\n",
    "        num_zeros = tmp.count('0')\n",
    "        num_ones = tmp.count('1')\n",
    "\n",
    "        #Determine eigenvalue of operator\n",
    "        eigenvalue = 1**num_zeros * (-1)**num_ones\n",
    "        \n",
    "        #Add to expectation value\n",
    "        expectation_value += eigenvalue * counts_normalized.get(tmp)\n",
    "\n",
    "    #Determine h\n",
    "    if expectation_value >= 0:\n",
    "        h = 1\n",
    "    else:\n",
    "        h = -1\n",
    "\n",
    "    return h\n",
    "\n",
    "test = h(x,theta,n,d,shots)\n",
    "\n",
    "print(\"Test: \", test)\n",
    "\n",
    "\n",
    "\n",
    "\n",
    "\n",
    "\n",
    "\n",
    "\n",
    "\n"
   ]
  },
  {
   "cell_type": "code",
   "execution_count": null,
   "metadata": {},
   "outputs": [],
   "source": []
  },
  {
   "cell_type": "code",
   "execution_count": null,
   "metadata": {},
   "outputs": [],
   "source": []
  }
 ],
 "metadata": {
  "kernelspec": {
   "display_name": "QCQP",
   "language": "python",
   "name": "python3"
  },
  "language_info": {
   "codemirror_mode": {
    "name": "ipython",
    "version": 3
   },
   "file_extension": ".py",
   "mimetype": "text/x-python",
   "name": "python",
   "nbconvert_exporter": "python",
   "pygments_lexer": "ipython3",
   "version": "3.10.12"
  }
 },
 "nbformat": 4,
 "nbformat_minor": 2
}
