{
 "cells": [
  {
   "cell_type": "code",
   "execution_count": 18,
   "metadata": {},
   "outputs": [],
   "source": [
    "import numpy as np\n",
    "import qiskit as qk\n",
    "from qiskit import Aer\n",
    "import itertools"
   ]
  },
  {
   "cell_type": "code",
   "execution_count": 19,
   "metadata": {},
   "outputs": [],
   "source": [
    "def expectation(circuit,shots):\n",
    "    simulator = Aer.get_backend('aer_simulator')\n",
    "    result = simulator.run(circuit,shots=shots).result()\n",
    "    counts = result.get_counts()\n",
    "    \n",
    "    #Get keys of dictionary\n",
    "    keys = list(counts.keys())\n",
    "\n",
    "    #Calculate expectation value of Z^n \n",
    "    expectation_value = 0\n",
    "    for i in range(len(keys)):\n",
    "        tmp = keys[i]\n",
    "\n",
    "        #Extract number of zeros and ones\n",
    "        num_zeros = tmp.count('0')\n",
    "        num_ones = tmp.count('1')\n",
    "\n",
    "        #Determine eigenvalue of operator\n",
    "        eigenvalue = 1**num_zeros * (-1)**num_ones\n",
    "        \n",
    "        #Calculate expectation value\n",
    "        expectation_value += eigenvalue * counts[tmp]/shots\n",
    "        \n",
    "    return expectation_value"
   ]
  },
  {
   "cell_type": "code",
   "execution_count": 20,
   "metadata": {},
   "outputs": [],
   "source": [
    "def phi_ij(xi,xj):\n",
    "    return (np.pi-xi)*(np.pi-xj)\n",
    "\n",
    "def U1(x,n_part,circuit):\n",
    "    circuit.h(range(n_part))\n",
    "\n",
    "    circuit.p(2*x[0],0)\n",
    "    circuit.p(2*x[1],1)\n",
    "\n",
    "    circuit.cx(0,1)\n",
    "    circuit.p(2*phi_ij(x[0],x[1]),1)\n",
    "    circuit.cx(0,1)\n",
    "\n",
    "    circuit.s(1)\n",
    "    circuit.s(1)\n",
    "    return circuit\n"
   ]
  },
  {
   "cell_type": "code",
   "execution_count": 21,
   "metadata": {},
   "outputs": [],
   "source": [
    "def U2(x,n_part,circuit):\n",
    "    circuit.h(range(n_part))\n",
    "\n",
    "    circuit.p(2*x[0],0)\n",
    "    circuit.p(2*x[1],1)\n",
    "\n",
    "    circuit.cx(0,1)\n",
    "    circuit.p(2*phi_ij(x[0],x[1]),1)\n",
    "    circuit.cx(0,1)\n",
    "    return circuit"
   ]
  },
  {
   "cell_type": "code",
   "execution_count": 22,
   "metadata": {},
   "outputs": [],
   "source": [
    "def U3(x,n_part,circuit):\n",
    "    circuit.h(range(n_part))\n",
    "\n",
    "    circuit.p(2*x[0],0)\n",
    "    circuit.p(2*x[1],1)\n",
    "\n",
    "    circuit.cx(0,1)\n",
    "    circuit.p(2*phi_ij(x[0],x[1]),1)\n",
    "    circuit.cx(0,1)\n",
    "    return circuit"
   ]
  },
  {
   "cell_type": "code",
   "execution_count": 23,
   "metadata": {},
   "outputs": [],
   "source": [
    "def U4(x,n_part,circuit):\n",
    "    circuit.h(range(n_part))\n",
    "\n",
    "    circuit.p(2*x[0],0)\n",
    "    circuit.p(2*x[1],1)\n",
    "\n",
    "    circuit.cx(0,1)\n",
    "    circuit.p(2*phi_ij(x[0],x[1]),1)\n",
    "    circuit.cx(0,1)\n",
    "\n",
    "    circuit.sdg(1)\n",
    "    circuit.sdg(1)\n",
    "    return circuit"
   ]
  },
  {
   "cell_type": "code",
   "execution_count": 24,
   "metadata": {},
   "outputs": [],
   "source": [
    "def V1(x,n_part,circuit):\n",
    "    circuit.h(range(n_part))\n",
    "\n",
    "    circuit.p(2*x[2],0)\n",
    "    circuit.p(2*x[3],1)\n",
    "\n",
    "    circuit.h(0)\n",
    "    circuit.s(0)\n",
    "    circuit.h(0)\n",
    "    circuit.p(2*phi_ij(x[1],x[2]),0)\n",
    "    circuit.h(0)\n",
    "    circuit.s(0)\n",
    "    circuit.h(0)\n",
    "\n",
    "    circuit.cx(0,1)\n",
    "    circuit.p(2*phi_ij(x[2],x[3]),1)\n",
    "    circuit.cx(0,1)\n",
    "    return circuit\n"
   ]
  },
  {
   "cell_type": "code",
   "execution_count": 25,
   "metadata": {},
   "outputs": [],
   "source": [
    "def V2(x,n_part,circuit):\n",
    "    #Create circuit\n",
    "    circuit.h(range(n_part))\n",
    "\n",
    "    circuit.p(2*x[2],0)\n",
    "    circuit.p(2*x[3],1)\n",
    "\n",
    "    circuit.h(0)\n",
    "    circuit.sdg(0)\n",
    "    circuit.h(0)\n",
    "    circuit.p(2*phi_ij(x[1],x[2]),0)\n",
    "    circuit.h(0)\n",
    "    circuit.s(0)\n",
    "    circuit.h(0)\n",
    "\n",
    "    circuit.cx(0,1)\n",
    "    circuit.p(2*phi_ij(x[2],x[3]),1)\n",
    "    circuit.cx(0,1)\n",
    "    return circuit"
   ]
  },
  {
   "cell_type": "code",
   "execution_count": 26,
   "metadata": {},
   "outputs": [],
   "source": [
    "def V3(x,n_part,circuit):\n",
    "    #Create circuit\n",
    "    circuit.h(range(n_part))\n",
    "\n",
    "    circuit.p(2*x[2],0)\n",
    "    circuit.p(2*x[3],1)\n",
    "\n",
    "    circuit.h(0)\n",
    "    circuit.s(0)\n",
    "    circuit.h(0)\n",
    "    circuit.p(2*phi_ij(x[1],x[2]),0)\n",
    "    circuit.h(0)\n",
    "    circuit.sdg(0)\n",
    "    circuit.h(0)\n",
    "\n",
    "    circuit.cx(0,1)\n",
    "    circuit.p(2*phi_ij(x[2],x[3]),1)\n",
    "    circuit.cx(0,1)\n",
    "    return circuit"
   ]
  },
  {
   "cell_type": "code",
   "execution_count": 27,
   "metadata": {},
   "outputs": [],
   "source": [
    "def V4(x,n_part,circuit):\n",
    "    #Create circuit\n",
    "    circuit.h(range(n_part))\n",
    "\n",
    "    circuit.p(2*x[2],0)\n",
    "    circuit.p(2*x[3],1)\n",
    "\n",
    "    circuit.h(0)\n",
    "    circuit.sdg(0)\n",
    "    circuit.h(0)\n",
    "    circuit.p(2*phi_ij(x[1],x[2]),0)\n",
    "    circuit.h(0)\n",
    "    circuit.sdg(0)\n",
    "    circuit.h(0)\n",
    "\n",
    "    circuit.cx(0,1)\n",
    "    circuit.p(2*phi_ij(x[2],x[3]),1)\n",
    "    circuit.cx(0,1) \n",
    "    return circuit"
   ]
  },
  {
   "cell_type": "code",
   "execution_count": 28,
   "metadata": {},
   "outputs": [
    {
     "ename": "NameError",
     "evalue": "name 'U_original' is not defined",
     "output_type": "error",
     "traceback": [
      "\u001b[0;31m---------------------------------------------------------------------------\u001b[0m",
      "\u001b[0;31mNameError\u001b[0m                                 Traceback (most recent call last)",
      "Cell \u001b[0;32mIn[28], line 9\u001b[0m\n\u001b[1;32m      6\u001b[0m circuit_test \u001b[38;5;241m=\u001b[39m qk\u001b[38;5;241m.\u001b[39mQuantumCircuit(n,n)\n\u001b[1;32m      7\u001b[0m shots \u001b[38;5;241m=\u001b[39m \u001b[38;5;241m1000\u001b[39m\n\u001b[0;32m----> 9\u001b[0m U_original_test \u001b[38;5;241m=\u001b[39m \u001b[43mU_original\u001b[49m(circuit_test,x,n,d)\n\u001b[1;32m     10\u001b[0m expectation_original \u001b[38;5;241m=\u001b[39m expectation(U_original_test,shots)\n\u001b[1;32m     12\u001b[0m U1_test \u001b[38;5;241m=\u001b[39m U1(x,n_part)\n",
      "\u001b[0;31mNameError\u001b[0m: name 'U_original' is not defined"
     ]
    }
   ],
   "source": [
    "#Original circuit\n",
    "x = np.array([0.6,0.2,0.3,0.8])\n",
    "n = 4\n",
    "n_part = 2\n",
    "d = 1\n",
    "circuit_test = qk.QuantumCircuit(n,n)\n",
    "shots = 1000\n",
    "\n",
    "U_original_test = U_original(circuit_test,x,n,d)\n",
    "expectation_original = expectation(U_original_test,shots)\n",
    "\n",
    "U1_test = U1(x,n_part)\n",
    "expectation_U1 = expectation(U1_test,shots)\n",
    "\n",
    "U2_test = U2(x,n_part)\n",
    "expectation_U2 = expectation(U2_test,shots)\n",
    "\n",
    "U3_test = U3(x,n_part)\n",
    "expectation_U3 = expectation(U3_test,shots)\n",
    "\n",
    "U4_test = U4(x,n_part)\n",
    "expectation_U4 = expectation(U4_test,shots)\n",
    "\n",
    "V1_test = V1(x,n_part)\n",
    "expectation_V1 = expectation(V1_test,shots)\n",
    "\n",
    "V2_test = V2(x,n_part)\n",
    "expectation_V2 = expectation(V2_test,shots)\n",
    "\n",
    "V3_test = V3(x,n_part)\n",
    "expectation_V3 = expectation(V3_test,shots)\n",
    "\n",
    "V4_test = V4(x,n_part)\n",
    "expectation_V4 = expectation(V4_test,shots)\n",
    "\n",
    "expectation_partitioned = expectation_U1*expectation_V1* + expectation_U2*expectation_V2 + expectation_U3*expectation_V3 + expectation_U4*expectation_V4\n",
    "\n",
    "# print(expectation_U1)\n",
    "# print(expectation_U2)\n",
    "# print(expectation_U3)\n",
    "# print(expectation_U4)\n",
    "\n",
    "# print(expectation_V1)\n",
    "# print(expectation_V2)\n",
    "# print(expectation_V3)\n",
    "# print(expectation_V4)\n",
    "\n",
    "print(expectation_original)\n",
    "print(expectation_partitioned)"
   ]
  },
  {
   "cell_type": "code",
   "execution_count": 56,
   "metadata": {},
   "outputs": [
    {
     "data": {
      "text/plain": [
       "-0.0013359999999999997"
      ]
     },
     "execution_count": 56,
     "metadata": {},
     "output_type": "execute_result"
    }
   ],
   "source": [
    "U_partitioned = [U1,U2,U3,U4]\n",
    "V_partitioned = [V1,V2,V3,V4]\n",
    "\n",
    "def partitioned_circuit(x,n_part,d,shots):\n",
    "    #Initialize circuit\n",
    "    circuit1 = qk.QuantumCircuit(n_part,n_part)\n",
    "    circuit2 = qk.QuantumCircuit(n_part,n_part)\n",
    "\n",
    "    assert d<=2, \"d must be smaller or equal to 2\"\n",
    "\n",
    "    expectation_value = 0\n",
    "    if d == 1:\n",
    "        combinations = [(i, i) for i in range(0,4)]\n",
    "        for i in range(len(combinations)):\n",
    "            circuit1 = U_partitioned[combinations[i][0]](x,n_part,circuit1)\n",
    "            circuit1.barrier()\n",
    "            circuit1.z(range(n_part))\n",
    "            circuit1.measure(range(n_part),range(n_part))\n",
    "\n",
    "            circuit2 = V_partitioned[combinations[i][1]](x,n_part,circuit2)\n",
    "            circuit2.barrier()\n",
    "            circuit2.z(range(n_part))\n",
    "            circuit2.measure(range(n_part),range(n_part))\n",
    "\n",
    "            expectation_1 = expectation(circuit1,shots)\n",
    "            expectation_2 = expectation(circuit2,shots)\n",
    "\n",
    "            expectation_value += expectation_1*expectation_2\n",
    "\n",
    "    if d == 2:\n",
    "        combinations = [((i, i), (j, j)) for i in range(0, 4) for j in range(0, 4)]\n",
    "        for i in range(len(combinations)):\n",
    "            circuit1 = U_partitioned[combinations[i][0][0]](x,n_part,circuit1)\n",
    "            circuit1 = V_partitioned[combinations[i][0][1]](x,n_part,circuit1)\n",
    "            circuit1.barrier()\n",
    "            circuit1.z(range(n_part))\n",
    "            circuit1.measure(range(n_part),range(n_part))\n",
    "\n",
    "            circuit2 = U_partitioned[combinations[i][1][0]](x,n_part,circuit2)\n",
    "            circuit2 = V_partitioned[combinations[i][1][1]](x,n_part,circuit2)\n",
    "            circuit2.barrier()\n",
    "            circuit2.z(range(n_part))\n",
    "            circuit2.measure(range(n_part),range(n_part))\n",
    "\n",
    "            expectation_1 = expectation(circuit1,shots)\n",
    "            expectation_2 = expectation(circuit2,shots)\n",
    "\n",
    "            expectation_value += expectation_1*expectation_2\n",
    "    return expectation_value\n",
    "\n",
    "partitioned_circuit(x,n_part,1,1000)\n"
   ]
  },
  {
   "cell_type": "code",
   "execution_count": 52,
   "metadata": {},
   "outputs": [
    {
     "name": "stderr",
     "output_type": "stream",
     "text": [
      "/home/pschaefers/master/QCQP/lib/python3.10/site-packages/qiskit/visualization/circuit/matplotlib.py:266: FutureWarning: The default matplotlib drawer scheme will be changed to \"iqp\" in a following release. To silence this warning, specify the current default explicitly as style=\"clifford\", or the new default as style=\"iqp\".\n",
      "  self._style, def_font_ratio = load_style(self._style)\n"
     ]
    },
    {
     "data": {
      "image/png": "[encoded data removed]",
      "text/plain": [
       "<Figure size 1875.91x284.278 with 1 Axes>"
      ]
     },
     "execution_count": 52,
     "metadata": {},
     "output_type": "execute_result"
    }
   ],
   "source": []
  },
  {
   "cell_type": "code",
   "execution_count": 38,
   "metadata": {},
   "outputs": [
    {
     "name": "stderr",
     "output_type": "stream",
     "text": [
      "/home/pschaefers/master/QCQP/lib/python3.10/site-packages/qiskit/visualization/circuit/matplotlib.py:266: FutureWarning: The default matplotlib drawer scheme will be changed to \"iqp\" in a following release. To silence this warning, specify the current default explicitly as style=\"clifford\", or the new default as style=\"iqp\".\n",
      "  self._style, def_font_ratio = load_style(self._style)\n"
     ]
    },
    {
     "data": {
      "image/png": "[encoded data removed]",
      "text/plain": [
       "<Figure size 538.128x284.278 with 1 Axes>"
      ]
     },
     "execution_count": 38,
     "metadata": {},
     "output_type": "execute_result"
    }
   ],
   "source": [
    "U2(x,n_part,qk.QuantumCircuit(2,2)).draw(output='mpl')"
   ]
  },
  {
   "cell_type": "code",
   "execution_count": 12,
   "metadata": {},
   "outputs": [],
   "source": [
    "# Case when d=1\n",
    "d = 1\n",
    "list_d1 = [(i, i) for i in range(0,4)]\n",
    "\n",
    "# Case when d=2\n",
    "d = 2\n",
    "list_d2 = [((i, i), (j, j)) for i in range(0, 4) for j in range(0, 4)]\n"
   ]
  },
  {
   "cell_type": "code",
   "execution_count": 16,
   "metadata": {},
   "outputs": [
    {
     "name": "stdout",
     "output_type": "stream",
     "text": [
      "[(0, 0), (1, 1), (2, 2), (3, 3)]\n",
      "[((0, 0), (0, 0)), ((0, 0), (1, 1)), ((0, 0), (2, 2)), ((0, 0), (3, 3)), ((1, 1), (0, 0)), ((1, 1), (1, 1)), ((1, 1), (2, 2)), ((1, 1), (3, 3)), ((2, 2), (0, 0)), ((2, 2), (1, 1)), ((2, 2), (2, 2)), ((2, 2), (3, 3)), ((3, 3), (0, 0)), ((3, 3), (1, 1)), ((3, 3), (2, 2)), ((3, 3), (3, 3))]\n",
      "(0, 0) (0, 0)\n",
      "(0, 0) (1, 1)\n",
      "(0, 0) (2, 2)\n",
      "(0, 0) (3, 3)\n",
      "(1, 1) (0, 0)\n",
      "(1, 1) (1, 1)\n",
      "(1, 1) (2, 2)\n",
      "(1, 1) (3, 3)\n",
      "(2, 2) (0, 0)\n",
      "(2, 2) (1, 1)\n",
      "(2, 2) (2, 2)\n",
      "(2, 2) (3, 3)\n",
      "(3, 3) (0, 0)\n",
      "(3, 3) (1, 1)\n",
      "(3, 3) (2, 2)\n",
      "(3, 3) (3, 3)\n"
     ]
    }
   ],
   "source": [
    "print(list_d1)\n",
    "print(list_d2)\n",
    "\n",
    "for i in list_d2:\n",
    "    print(i[0],i[1])"
   ]
  },
  {
   "cell_type": "code",
   "execution_count": null,
   "metadata": {},
   "outputs": [],
   "source": []
  }
 ],
 "metadata": {
  "kernelspec": {
   "display_name": "QCQP",
   "language": "python",
   "name": "python3"
  },
  "language_info": {
   "codemirror_mode": {
    "name": "ipython",
    "version": 3
   },
   "file_extension": ".py",
   "mimetype": "text/x-python",
   "name": "python",
   "nbconvert_exporter": "python",
   "pygments_lexer": "ipython3",
   "version": "3.10.12"
  }
 },
 "nbformat": 4,
 "nbformat_minor": 2
}
