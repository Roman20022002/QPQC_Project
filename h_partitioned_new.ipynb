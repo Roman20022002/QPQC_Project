{
 "cells": [
  {
   "cell_type": "code",
   "execution_count": 4,
   "metadata": {},
   "outputs": [],
   "source": [
    "#Import necessary libraries\n",
    "import qiskit as qk\n",
    "from U_unitary import * \n",
    "from W_unitary import *\n",
    "from qiskit import Aer\n",
    "import numpy as np"
   ]
  },
  {
   "cell_type": "code",
   "execution_count": 5,
   "metadata": {},
   "outputs": [],
   "source": [
    "#build circuit\n",
    "def circuit(x,theta,n,d):\n",
    "\n",
    "    circuit = qk.QuantumCircuit(n,n)\n",
    "    circuit = U(circuit,x,n,d)\n",
    "    circuit = W(circuit,theta,n,d)\n",
    "\n",
    "    #Add observable Z^n to measure\n",
    "    circuit.z(range(n))\n",
    "    \n",
    "    #Add measurement to circuit\n",
    "    circuit.measure(range(n),range(n))\n",
    "\n",
    "    return circuit\n",
    "\n",
    "'''\n",
    "Define function h that returns +- 1 depending on the expectation value of Z^n\n",
    "\n",
    "x: data \n",
    "theta: optimization parameters\n",
    "n: number of qubits\n",
    "d: depth of circuit\n",
    "shots: number of repititions for experiment in order to determine expectation value\n",
    "'''\n",
    "def h(x,theta,n,d,shots):\n",
    "    expectation_value = 1\n",
    "    \n",
    "    for j in range(2):\n",
    "        #run circuit\n",
    "        simulator = Aer.get_backend('aer_simulator')\n",
    "        if j == 0:\n",
    "            job = circuit(x[:2],theta[:int(len(theta)/2)],int(n/2),d)\n",
    "\n",
    "        else:\n",
    "            job = circuit(x[2:],theta[int(len(theta)/2):],int(n/2),d)\n",
    "\n",
    "        result = simulator.run(job,shots=shots).result()\n",
    "\n",
    "        #Get counts and normalize them\n",
    "        counts = result.get_counts()\n",
    "        total_counts = sum(counts.values())\n",
    "        counts_normalized = {state: counts[state]/total_counts for state in counts}\n",
    "\n",
    "        #Get keys of dictionary\n",
    "        keys = list(counts_normalized.keys())\n",
    "\n",
    "        #Calculate expectation value of Z^n \n",
    "        expectation_temp = 0\n",
    "        for i in range(len(keys)):\n",
    "            tmp = keys[i]\n",
    "\n",
    "            #Extract number of zeros and ones\n",
    "            num_zeros = tmp.count('0')\n",
    "            num_ones = tmp.count('1')\n",
    "\n",
    "            #Determine eigenvalue of operator\n",
    "            eigenvalue = 1**num_zeros * (-1)**num_ones\n",
    "            \n",
    "            #Add to expectation value\n",
    "            expectation_temp += eigenvalue * counts_normalized.get(tmp)\n",
    "    \n",
    "        expectation_value *= expectation_temp\n",
    "        print(expectation_value)\n",
    "\n",
    "    #Determine h\n",
    "    if expectation_value >= 0:\n",
    "        h = 1\n",
    "    else:\n",
    "        h = -1\n",
    "\n",
    "    return h"
   ]
  },
  {
   "cell_type": "code",
   "execution_count": 11,
   "metadata": {},
   "outputs": [
    {
     "name": "stdout",
     "output_type": "stream",
     "text": [
      "0.630859375\n",
      "-0.11212539672851562\n",
      "-1\n"
     ]
    }
   ],
   "source": [
    "x = np.array([0.6,0.3,0.8,0.4])\n",
    "n = 4\n",
    "d = 2\n",
    "theta = 2*np.pi*np.random.random(n*d*3)\n",
    "shots = 1024\n",
    "\n",
    "test = h(x,theta,n,d,shots)\n",
    "\n",
    "print(test)"
   ]
  },
  {
   "cell_type": "code",
   "execution_count": null,
   "metadata": {},
   "outputs": [],
   "source": []
  }
 ],
 "metadata": {
  "kernelspec": {
   "display_name": "QCQP",
   "language": "python",
   "name": "python3"
  },
  "language_info": {
   "codemirror_mode": {
    "name": "ipython",
    "version": 3
   },
   "file_extension": ".py",
   "mimetype": "text/x-python",
   "name": "python",
   "nbconvert_exporter": "python",
   "pygments_lexer": "ipython3",
   "version": "3.10.12"
  }
 },
 "nbformat": 4,
 "nbformat_minor": 2
}
