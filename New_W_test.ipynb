{
 "cells": [
  {
   "cell_type": "code",
   "execution_count": 7,
   "metadata": {},
   "outputs": [
    {
     "data": {
      "text/plain": [
       "[(0, 1), (1, 2), (2, 3), (0, 3)]"
      ]
     },
     "execution_count": 7,
     "metadata": {},
     "output_type": "execute_result"
    }
   ],
   "source": [
    "split = [[0,1],[2,3]]\n",
    "\n",
    "n = 4 #total elements\n",
    "k = 2 #elements per split\n",
    "\n",
    "split = []\n",
    "for i in range(n//k):\n",
    "    split.append(range(i*k,(i+1)*k))\n",
    "split.append(range(n-n%k,n))\n",
    "\n",
    "circuit_num =0\n",
    "\n",
    "entangles = []\n",
    "j=0\n",
    "\n",
    "if j%2==0:\n",
    "    for i in range(n-1):\n",
    "        entangles.append((i,i+1))\n",
    "    entangles.append((0,n-1))\n",
    "else:\n",
    "    for i in range(n-1,0,-1):\n",
    "        entangles.append((i-1,i))\n",
    "    entangles.append((0,n-1))\n",
    "\n",
    "entangles\n"
   ]
  },
  {
   "cell_type": "code",
   "execution_count": 88,
   "metadata": {},
   "outputs": [],
   "source": [
    "def theta_gate(qc,theta,i):\n",
    "    assert len(theta) == 3, \"theta incorrect size\"\n",
    "    qc.rx(theta[0],i)\n",
    "    qc.ry(theta[1],i)\n",
    "    qc.rz(theta[2],i)\n",
    "    return 0\n",
    "\n",
    "\n",
    "def split_Z_gates(qc, n, j, indices,dag):\n",
    "    phi = (-1)**dag*(np.pi/2)\n",
    "    B = 2 in indices\n",
    "    if j%2 ==0:\n",
    "        qc.cz(0,1)\n",
    "        qc.p(phi ,1-B)\n",
    "    else:\n",
    "        qc.p(phi ,1-B)\n",
    "        qc.cz(0,1)\n",
    "    return qc\n",
    "    \n",
    "def split_Z_gates_alt(qc, n, j, dag):\n",
    "    phi = (-1)**dag*(np.pi/2)\n",
    "    if j%2 ==0:\n",
    "        qc.cz(0,1)\n",
    "        qc.p(phi ,1)\n",
    "        qc.p(phi ,2)\n",
    "        qc.cz(2,3)\n",
    "    else:\n",
    "        qc.cz(2,3)\n",
    "        qc.p(phi ,2)\n",
    "        qc.p(np.pi/2 ,1)\n",
    "        qc.cz(0,1)\n",
    "    return qc           \n",
    "\n",
    "def W_4_split(qc,theta, n, l, indices,dag):\n",
    "    # Gets 2 qubit circuit, then adds W gate\n",
    "    Theta_matrix = np.reshape(theta, (n,l,3))[indices,:,:]\n",
    "    for j in range(l):\n",
    "        for i in range(2):\n",
    "            theta_gate(qc,Theta_matrix[i,j,:],i)\n",
    "        split_Z_gates(qc, n, j, indices,dag[j])        \n",
    "    return qc\n",
    "\n",
    "def W_4_split_alt(qc,theta, n, l,dag):\n",
    "    # Gets 4 qubit circuit, then adds W gate\n",
    "    Theta_matrix = np.reshape(theta, (n,l,3))\n",
    "    for j in range(l):\n",
    "        for i in range(n):\n",
    "            theta_gate(qc,Theta_matrix[i,j,:],i)\n",
    "        split_Z_gates_alt(qc, n, j, dag[j])        \n",
    "    return qc\n",
    "\n",
    "def make_dags(i,splits):\n",
    "    dags = np.zeros(splits)\n",
    "    j=0\n",
    "    for e in bin(i)[2:].zfill(splits):\n",
    "        dags[j] = e\n",
    "        j+=1\n",
    "    return dags"
   ]
  },
  {
   "cell_type": "code",
   "execution_count": 73,
   "metadata": {},
   "outputs": [
    {
     "name": "stdout",
     "output_type": "stream",
     "text": [
      "[0. 0.]\n",
      "[0. 1.]\n",
      "[1. 0.]\n",
      "[1. 1.]\n"
     ]
    }
   ],
   "source": [
    "for i in range(4):\n",
    "    dags = np.zeros(splits)\n",
    "    j=0\n",
    "    for e in bin(i)[2:].zfill(splits):\n",
    "        dags[j] = e\n",
    "        j+=1\n",
    "    print(dags)"
   ]
  },
  {
   "cell_type": "code",
   "execution_count": 9,
   "metadata": {},
   "outputs": [
    {
     "data": {
      "text/html": [
       "<pre style=\"word-wrap: normal;white-space: pre;background: #fff0;line-height: 1.1;font-family: &quot;Courier New&quot;,Courier,monospace\">     ┌───────────┐ ┌────────────┐┌────────────┐              \n",
       "q_0: ┤ Rx(5.222) ├─┤ Ry(3.9709) ├┤ Rz(2.8004) ├─■────────────\n",
       "     ├───────────┤┌┴────────────┤├────────────┤ │ ┌─────────┐\n",
       "q_1: ┤ Rx(2.606) ├┤ Ry(0.40499) ├┤ Rz(6.1214) ├─■─┤ P(-π/2) ├\n",
       "     └───────────┘└─────────────┘└────────────┘   └─────────┘</pre>"
      ],
      "text/plain": [
       "     ┌───────────┐ ┌────────────┐┌────────────┐              \n",
       "q_0: ┤ Rx(5.222) ├─┤ Ry(3.9709) ├┤ Rz(2.8004) ├─■────────────\n",
       "     ├───────────┤┌┴────────────┤├────────────┤ │ ┌─────────┐\n",
       "q_1: ┤ Rx(2.606) ├┤ Ry(0.40499) ├┤ Rz(6.1214) ├─■─┤ P(-π/2) ├\n",
       "     └───────────┘└─────────────┘└────────────┘   └─────────┘"
      ]
     },
     "execution_count": 9,
     "metadata": {},
     "output_type": "execute_result"
    }
   ],
   "source": [
    "import qiskit as qk\n",
    "import numpy as np\n",
    "n = 4\n",
    "d = 1\n",
    "Theta = 2*np.pi*np.random.random(n*d*3)\n",
    "\n",
    "indices = [0,1]\n",
    "qc = qk.QuantumCircuit(2)\n",
    "qc = W_4_split(qc,Theta, n, d,indices, 1)\n",
    "qc.draw()\n",
    "\n",
    "# qc1 = qk.QuantumCircuit(n)\n",
    "# qc1 = W_4_split_alt(qc1,Theta, n, d, 0)\n",
    "# qc1.draw()"
   ]
  },
  {
   "cell_type": "code",
   "execution_count": 40,
   "metadata": {},
   "outputs": [],
   "source": [
    "import qiskit as qk\n",
    "import numpy as np\n",
    "n = 4\n",
    "d = 1\n",
    "Theta = 2*np.pi*np.random.random(n*d*3)\n",
    "\n",
    "splits_per_depth = 1\n",
    "N = 2**(d*splits_per_depth+1)\n",
    "qcs = []\n",
    "\n",
    "for i in range(N):\n",
    "    qcs.append(qk.QuantumCircuit(n))\n",
    "    dags = make_dags(i,splits_per_depth)\n",
    "    for j in range(splits_per_depth):\n",
    "        W_4_split_alt(qcs[i],Theta, n, d, dags[j])"
   ]
  },
  {
   "cell_type": "code",
   "execution_count": 95,
   "metadata": {},
   "outputs": [
    {
     "name": "stdout",
     "output_type": "stream",
     "text": [
      "[0.]\n",
      "[0.]\n",
      "[1.]\n",
      "[1.]\n"
     ]
    }
   ],
   "source": [
    "import qiskit as qk\n",
    "import numpy as np\n",
    "n = 4\n",
    "d = 1\n",
    "Theta = 2*np.pi*np.random.random(n*d*3)\n",
    "\n",
    "splits_per_depth = 1\n",
    "N = 2**(d*splits_per_depth+1)\n",
    "qcs = []\n",
    "\n",
    "for i in range(N):\n",
    "    if i%2==0:\n",
    "        indices = [0,1]\n",
    "    else:\n",
    "        indices = [2,3]\n",
    "    qc = qk.QuantumCircuit(2)\n",
    "    dags = make_dags(i//2,d*splits_per_depth)\n",
    "    print(dags)\n",
    "    for j in range(splits_per_depth):\n",
    "        W_4_split(qc,Theta, n, d, indices,dags[j*d:(j+1)*d])\n",
    "    qcs.append(qc)"
   ]
  },
  {
   "cell_type": "code",
   "execution_count": 106,
   "metadata": {},
   "outputs": [
    {
     "name": "stdout",
     "output_type": "stream",
     "text": [
      "[0.]\n",
      "[0.]\n",
      "[1.]\n",
      "[1.]\n"
     ]
    }
   ],
   "source": [
    "import qiskit as qk\n",
    "import numpy as np\n",
    "n = 4\n",
    "d = 1\n",
    "Theta = 2*np.pi*np.random.random(n*d*3)\n",
    "\n",
    "splits_per_depth = 1\n",
    "N = 2**(d*splits_per_depth+1)\n",
    "circuits = []\n",
    "\n",
    "for i in range(N):\n",
    "    if i%2==0:\n",
    "        indices = [0,1]\n",
    "    else:\n",
    "        indices = [2,3]\n",
    "    circuit = qk.QuantumCircuit(2,2)\n",
    "    dags = make_dags(i//2,d*splits_per_depth)\n",
    "    print(dags)\n",
    "    for j in range(splits_per_depth):\n",
    "        W_4_split(circuit,Theta, n, d, indices,dags[j*d:(j+1)*d])\n",
    "    circuit.z(range(2))\n",
    "\n",
    "#Add measurement to circuit\n",
    "    circuit.measure(range(2),range(2))\n",
    "    circuits.append(circuit)"
   ]
  },
  {
   "cell_type": "code",
   "execution_count": 115,
   "metadata": {},
   "outputs": [
    {
     "name": "stdout",
     "output_type": "stream",
     "text": [
      "0.3056640625\n"
     ]
    }
   ],
   "source": [
    "from qiskit import  Aer, transpile\n",
    "shots = 1024\n",
    "\n",
    "circuit = circuits[3]\n",
    "\n",
    "\n",
    "simulator = Aer.get_backend('aer_simulator')\n",
    "job = circuit\n",
    "result = simulator.run(job,shots=shots).result()\n",
    "\n",
    "#Get counts and normalize them\n",
    "counts = result.get_counts()\n",
    "total_counts = sum(counts.values())\n",
    "counts_normalized = {state: counts[state]/total_counts for state in counts}\n",
    "\n",
    "print(counts_normalized['00'])\n"
   ]
  }
 ],
 "metadata": {
  "kernelspec": {
   "display_name": "Python 3",
   "language": "python",
   "name": "python3"
  },
  "language_info": {
   "codemirror_mode": {
    "name": "ipython",
    "version": 3
   },
   "file_extension": ".py",
   "mimetype": "text/x-python",
   "name": "python",
   "nbconvert_exporter": "python",
   "pygments_lexer": "ipython3",
   "version": "3.9.11"
  }
 },
 "nbformat": 4,
 "nbformat_minor": 2
}
