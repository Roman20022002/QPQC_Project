{
 "cells": [
  {
   "cell_type": "code",
   "execution_count": 15,
   "metadata": {},
   "outputs": [],
   "source": [
    "import numpy as np\n",
    "import matplotlib.pyplot as plt\n",
    "import seaborn as sns\n",
    "\n",
    "\n",
    "from sklearn.datasets import make_moons\n",
    "from sklearn.model_selection import train_test_split \n",
    "from sklearn.datasets import make_blobs \n",
    "from sklearn import svm\n",
    "\n",
    "from h import *\n",
    "from W_unitary import *\n",
    "from U_unitary import *\n",
    "from qiskit.algorithms.optimizers import COBYLA, ADAM, SPSA, SLSQP, POWELL, L_BFGS_B, TNC, AQGD\n",
    "\n",
    "%matplotlib inline\n",
    "#plt.rcParams['figure.figsize'] = (10,6)\n",
    "#plt.rcParams['figure.dpi'] = 100\n",
    "#sns.set()\n",
    "\n",
    "#%matplotlib inline\n",
    "#%load_ext autoreload\n",
    "#%autoreload 2"
   ]
  },
  {
   "cell_type": "code",
   "execution_count": 28,
   "metadata": {},
   "outputs": [],
   "source": [
    "def MSE_loss(theta, X_train, y_train):\n",
    "    \n",
    "    # new_y_train = []\n",
    "    # for i in range(0, len(y_train)):\n",
    "    #     if y_train[i] == 0:\n",
    "    #         new_y_train.append(-1)\n",
    "    #     else:\n",
    "    #         new_y_train.append(1)\n",
    "    \n",
    "    predictions = []\n",
    "    for i in range(0, len(y_train)):\n",
    "        predictions.append(h(X_train[i], theta, 2, 2, shots))\n",
    "    \n",
    "    error = []\n",
    "    for i in range(0, len(predictions)):\n",
    "        parity = predictions[i] - y_train[i]\n",
    "        error.append(parity)\n",
    "\n",
    "    norm = np.linalg.norm(error)\n",
    "    return norm\n",
    "\n",
    "\n",
    "def cross_validation_split(X,y, ele_per_split, i):\n",
    "    X_train =  np.concatenate((X[:ele_per_split*i,:], X[ ele_per_split*(i+1) :,:]))\n",
    "    X_test = X[ele_per_split*i:ele_per_split*(i+1),:]\n",
    "    y_train = np.concatenate((y[ :ele_per_split*i], y[ele_per_split*(i+1):]))\n",
    "    y_test = y[ ele_per_split*i:ele_per_split*(i+1)]\n",
    "    return X_train, X_test, 2*y_train-1, 2*y_test-1"
   ]
  },
  {
   "cell_type": "code",
   "execution_count": 29,
   "metadata": {},
   "outputs": [],
   "source": [
    "\n",
    "\n",
    "RANDOM_STATE=42\n",
    "seed = np.random.seed(RANDOM_STATE)\n",
    "theta = 2*np.pi*np.random.random(2*2*3)\n",
    "\n",
    "n_samples = 1000\n",
    "n_splits = 4\n",
    "\n",
    "X, y = make_moons(n_samples, noise=0.8)\n",
    "if n_samples%n_splits != 0:\n",
    "    print(\"Preffered to have n_splits is divisor of n_samples\")\n",
    "ele_per_split = n_samples//n_splits\n",
    "\n",
    "shots = 1024"
   ]
  },
  {
   "cell_type": "code",
   "execution_count": 50,
   "metadata": {},
   "outputs": [
    {
     "name": "stdout",
     "output_type": "stream",
     "text": [
      "Split  0\n",
      "Optimal Theta  [ 2.35341816  5.70465651  4.27370968  3.34986581  0.5246085   1.92306074\n",
      " -0.02954913  5.17674921  3.83403014  4.04531082  0.23293037  5.75266979]\n",
      "Performance on training set  31.0\n",
      "Performance on test set  13.0\n",
      "Split  1\n",
      "Optimal Theta  [ 3.08039691  8.12317012  5.9058596   3.74557053  0.98816011  1.33543614\n",
      "  0.01522891  5.4405804   3.16047969  5.7933846  -1.2018166   6.09872312]\n",
      "Performance on training set  29.0\n",
      "Performance on test set  10.0\n",
      "Split  2\n",
      "Optimal Theta  [ 2.94169566  5.73958502  4.76849041  3.52727273  1.23237702  0.98160404\n",
      "  0.20794524  5.36238518  3.62170162  5.52807217 -0.11865632  7.17376478]\n",
      "Performance on training set  32.0\n",
      "Performance on test set  13.0\n",
      "Split  3\n",
      "Optimal Theta  [3.35330497 5.65560505 4.24709261 4.1971825  0.80291862 1.08654605\n",
      " 0.32246785 5.39986299 4.06026009 4.40646897 1.26045292 6.04977948]\n",
      "Performance on training set  32.0\n",
      "Performance on test set  14.0\n"
     ]
    }
   ],
   "source": [
    "thetas = np.zeros((len(theta), n_splits))\n",
    "for i in range(n_splits):\n",
    "    X_train, X_test, y_train, y_test = cross_validation_split(X,y, ele_per_split, i)\n",
    "\n",
    "    objective_function = lambda theta: MSE_loss(theta, X_train, y_train)\n",
    "\n",
    "    optimizer = COBYLA(maxiter=100)\n",
    "    theta_opt = optimizer.minimize(objective_function, theta).x\n",
    "\n",
    "    thetas[:,i] = theta_opt\n",
    "\n",
    "    y_optimizer_train = np.zeros(len(y_train))\n",
    "    for j in range(0, len(y_train)):\n",
    "        y_optimizer_train[j] = (h(X_train[j], theta_opt, 2, 2, shots))\n",
    "\n",
    "    y_optimizer_test = np.zeros(len(y_test))\n",
    "    for j in range(0, len(y_test)):\n",
    "        y_optimizer_test[j] = (h(X_test[j], theta_opt, 2, 2, shots))\n",
    "\n",
    "    print(\"Split \", i)\n",
    "    print(\"Optimal Theta \", theta_opt)\n",
    "    print(\"Performance on training set \",1/2*np.sum(abs(y_optimizer_train-y_train)))\n",
    "    print(\"Performance on test set \",1/2*np.sum(abs(y_optimizer_test-y_test)))"
   ]
  },
  {
   "cell_type": "code",
   "execution_count": 51,
   "metadata": {},
   "outputs": [
    {
     "name": "stdout",
     "output_type": "stream",
     "text": [
      "Average Theta  [2.93220393 6.30575418 4.79878807 3.70497289 0.88701606 1.33166174\n",
      " 0.12902322 5.34489444 3.66911789 4.94330914 0.04322759 6.26873429]\n",
      "Performance on training set  32.0\n",
      "Performance on test set  14.0\n"
     ]
    }
   ],
   "source": [
    "theta_opt_avr = np.mean(thetas, axis=1)\n",
    "X_val, y_val = make_moons(n_samples//n_splits, noise=0.8)\n",
    "\n",
    "y_optimizer_val = np.zeros(len(y_val))\n",
    "for j in range(0, len(y_val)):\n",
    "    y_optimizer_val[j] = (h(X_val[j], theta_opt, 2, 2, shots))\n",
    "\n",
    "print(\"Average Theta \", theta_opt_avr)\n",
    "print(\"Performance on training set \",1/2*np.sum(abs(y_optimizer_train-y_train)))\n",
    "print(\"Performance on test set \",1/2*np.sum(abs(y_optimizer_test-y_test)))"
   ]
  }
 ],
 "metadata": {
  "kernelspec": {
   "display_name": "Python 3",
   "language": "python",
   "name": "python3"
  },
  "language_info": {
   "codemirror_mode": {
    "name": "ipython",
    "version": 3
   },
   "file_extension": ".py",
   "mimetype": "text/x-python",
   "name": "python",
   "nbconvert_exporter": "python",
   "pygments_lexer": "ipython3",
   "version": "3.9.11"
  }
 },
 "nbformat": 4,
 "nbformat_minor": 2
}
