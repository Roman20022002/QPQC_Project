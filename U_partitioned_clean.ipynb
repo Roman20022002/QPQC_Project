{
 "cells": [
  {
   "cell_type": "code",
   "execution_count": 2,
   "metadata": {},
   "outputs": [],
   "source": [
    "import numpy as np\n",
    "import qiskit as qk\n",
    "from qiskit import Aer"
   ]
  },
  {
   "cell_type": "code",
   "execution_count": 3,
   "metadata": {},
   "outputs": [],
   "source": [
    "def expectation(circuit,shots):\n",
    "    simulator = Aer.get_backend('aer_simulator')\n",
    "    result = simulator.run(circuit,shots=shots).result()\n",
    "    counts = result.get_counts()\n",
    "    \n",
    "    #Get keys of dictionary\n",
    "    keys = list(counts.keys())\n",
    "\n",
    "    #Calculate expectation value of Z^n \n",
    "    expectation_value = 0\n",
    "    for i in range(len(keys)):\n",
    "        tmp = keys[i]\n",
    "\n",
    "        #Extract number of zeros and ones\n",
    "        num_zeros = tmp.count('0')\n",
    "        num_ones = tmp.count('1')\n",
    "\n",
    "        #Determine eigenvalue of operator\n",
    "        eigenvalue = 1**num_zeros * (-1)**num_ones\n",
    "        \n",
    "        #Calculate expectation value\n",
    "        expectation_value += eigenvalue * counts[tmp]/shots\n",
    "        \n",
    "    return expectation_value"
   ]
  },
  {
   "cell_type": "code",
   "execution_count": 4,
   "metadata": {},
   "outputs": [],
   "source": [
    "def phi_ij(xi,xj):\n",
    "    return (np.pi-xi)*(np.pi-xj)\n",
    "\n",
    "def U1(x,n_part,circuit):\n",
    "    circuit.h(range(n_part))\n",
    "\n",
    "    circuit.p(2*x[0],0)\n",
    "    circuit.p(2*x[1],1)\n",
    "\n",
    "    circuit.cx(0,1)\n",
    "    circuit.p(2*phi_ij(x[0],x[1]),1)\n",
    "    circuit.cx(0,1)\n",
    "\n",
    "    circuit.s(1)\n",
    "    circuit.s(1)\n",
    "    return circuit\n"
   ]
  },
  {
   "cell_type": "code",
   "execution_count": 5,
   "metadata": {},
   "outputs": [],
   "source": [
    "def U2(x,n_part,circuit):\n",
    "    circuit.h(range(n_part))\n",
    "\n",
    "    circuit.p(2*x[0],0)\n",
    "    circuit.p(2*x[1],1)\n",
    "\n",
    "    circuit.cx(0,1)\n",
    "    circuit.p(2*phi_ij(x[0],x[1]),1)\n",
    "    circuit.cx(0,1)\n",
    "    return circuit"
   ]
  },
  {
   "cell_type": "code",
   "execution_count": 6,
   "metadata": {},
   "outputs": [],
   "source": [
    "def U3(x,n_part,circuit):\n",
    "    circuit.h(range(n_part))\n",
    "\n",
    "    circuit.p(2*x[0],0)\n",
    "    circuit.p(2*x[1],1)\n",
    "\n",
    "    circuit.cx(0,1)\n",
    "    circuit.p(2*phi_ij(x[0],x[1]),1)\n",
    "    circuit.cx(0,1)\n",
    "    return circuit"
   ]
  },
  {
   "cell_type": "code",
   "execution_count": 7,
   "metadata": {},
   "outputs": [],
   "source": [
    "def U4(x,n_part,circuit):\n",
    "    circuit.h(range(n_part))\n",
    "\n",
    "    circuit.p(2*x[0],0)\n",
    "    circuit.p(2*x[1],1)\n",
    "\n",
    "    circuit.cx(0,1)\n",
    "    circuit.p(2*phi_ij(x[0],x[1]),1)\n",
    "    circuit.cx(0,1)\n",
    "\n",
    "    circuit.sdg(1)\n",
    "    circuit.sdg(1)\n",
    "    return circuit"
   ]
  },
  {
   "cell_type": "code",
   "execution_count": 8,
   "metadata": {},
   "outputs": [],
   "source": [
    "def V1(x,n_part,circuit):\n",
    "    circuit.h(range(n_part))\n",
    "\n",
    "    circuit.p(2*x[2],0)\n",
    "    circuit.p(2*x[3],1)\n",
    "\n",
    "    circuit.h(0)\n",
    "    circuit.s(0)\n",
    "    circuit.h(0)\n",
    "    circuit.p(2*phi_ij(x[1],x[2]),0)\n",
    "    circuit.h(0)\n",
    "    circuit.s(0)\n",
    "    circuit.h(0)\n",
    "\n",
    "    circuit.cx(0,1)\n",
    "    circuit.p(2*phi_ij(x[2],x[3]),1)\n",
    "    circuit.cx(0,1)\n",
    "    return circuit\n"
   ]
  },
  {
   "cell_type": "code",
   "execution_count": 9,
   "metadata": {},
   "outputs": [],
   "source": [
    "def V2(x,n_part,circuit):\n",
    "    #Create circuit\n",
    "    circuit.h(range(n_part))\n",
    "\n",
    "    circuit.p(2*x[2],0)\n",
    "    circuit.p(2*x[3],1)\n",
    "\n",
    "    circuit.h(0)\n",
    "    circuit.sdg(0)\n",
    "    circuit.h(0)\n",
    "    circuit.p(2*phi_ij(x[1],x[2]),0)\n",
    "    circuit.h(0)\n",
    "    circuit.s(0)\n",
    "    circuit.h(0)\n",
    "\n",
    "    circuit.cx(0,1)\n",
    "    circuit.p(2*phi_ij(x[2],x[3]),1)\n",
    "    circuit.cx(0,1)\n",
    "    return circuit"
   ]
  },
  {
   "cell_type": "code",
   "execution_count": 10,
   "metadata": {},
   "outputs": [],
   "source": [
    "def V3(x,n_part,circuit):\n",
    "    #Create circuit\n",
    "    circuit.h(range(n_part))\n",
    "\n",
    "    circuit.p(2*x[2],0)\n",
    "    circuit.p(2*x[3],1)\n",
    "\n",
    "    circuit.h(0)\n",
    "    circuit.s(0)\n",
    "    circuit.h(0)\n",
    "    circuit.p(2*phi_ij(x[1],x[2]),0)\n",
    "    circuit.h(0)\n",
    "    circuit.sdg(0)\n",
    "    circuit.h(0)\n",
    "\n",
    "    circuit.cx(0,1)\n",
    "    circuit.p(2*phi_ij(x[2],x[3]),1)\n",
    "    circuit.cx(0,1)\n",
    "    return circuit"
   ]
  },
  {
   "cell_type": "code",
   "execution_count": 11,
   "metadata": {},
   "outputs": [],
   "source": [
    "def V4(x,n_part,circuit):\n",
    "    #Create circuit\n",
    "    circuit.h(range(n_part))\n",
    "\n",
    "    circuit.p(2*x[2],0)\n",
    "    circuit.p(2*x[3],1)\n",
    "\n",
    "    circuit.h(0)\n",
    "    circuit.sdg(0)\n",
    "    circuit.h(0)\n",
    "    circuit.p(2*phi_ij(x[1],x[2]),0)\n",
    "    circuit.h(0)\n",
    "    circuit.sdg(0)\n",
    "    circuit.h(0)\n",
    "\n",
    "    circuit.cx(0,1)\n",
    "    circuit.p(2*phi_ij(x[2],x[3]),1)\n",
    "    circuit.cx(0,1) \n",
    "    return circuit"
   ]
  },
  {
   "cell_type": "code",
   "execution_count": 44,
   "metadata": {},
   "outputs": [
    {
     "data": {
      "text/plain": [
       "1"
      ]
     },
     "execution_count": 44,
     "metadata": {},
     "output_type": "execute_result"
    }
   ],
   "source": [
    "#Original circuit\n",
    "x = np.array([0.6,0.8,0.3,0.8])\n",
    "n_part = 2\n",
    "d = 2\n",
    "shots = 1000\n",
    "\n",
    "U_partitioned = [U1,U2,U3,U4]\n",
    "V_partitioned = [V1,V2,V3,V4]\n",
    "\n",
    "def h_partitioned(x,n_part,d,shots):\n",
    "    #Initialize circuit\n",
    "    circuit1 = qk.QuantumCircuit(n_part,n_part)\n",
    "    circuit2 = qk.QuantumCircuit(n_part,n_part)\n",
    "\n",
    "    assert d<=2, \"d must be smaller or equal to 2\"\n",
    "\n",
    "    expectation_value = 0\n",
    "    if d == 1:\n",
    "        combinations = [(i, i) for i in range(0,4)]\n",
    "        for i in range(len(combinations)):\n",
    "            circuit1 = U_partitioned[combinations[i][0]](x,n_part,circuit1)\n",
    "            circuit1.barrier()\n",
    "            circuit1.z(range(n_part))\n",
    "            circuit1.measure(range(n_part),range(n_part))\n",
    "\n",
    "            circuit2 = V_partitioned[combinations[i][1]](x,n_part,circuit2)\n",
    "            circuit2.barrier()\n",
    "            circuit2.z(range(n_part))\n",
    "            circuit2.measure(range(n_part),range(n_part))\n",
    "\n",
    "            expectation_1 = expectation(circuit1,shots)\n",
    "            expectation_2 = expectation(circuit2,shots)\n",
    "\n",
    "            expectation_value += expectation_1*expectation_2\n",
    "\n",
    "    if d == 2:\n",
    "        combinations = [((i, i), (j, j)) for i in range(0, 4) for j in range(0, 4)]\n",
    "        for i in range(len(combinations)):\n",
    "            circuit1 = U_partitioned[combinations[i][0][0]](x,n_part,circuit1)\n",
    "            circuit1 = V_partitioned[combinations[i][0][1]](x,n_part,circuit1)\n",
    "            circuit1.barrier()\n",
    "            circuit1.z(range(n_part))\n",
    "            circuit1.measure(range(n_part),range(n_part))\n",
    "\n",
    "            circuit2 = U_partitioned[combinations[i][1][0]](x,n_part,circuit2)\n",
    "            circuit2 = V_partitioned[combinations[i][1][1]](x,n_part,circuit2)\n",
    "            circuit2.barrier()\n",
    "            circuit2.z(range(n_part))\n",
    "            circuit2.measure(range(n_part),range(n_part))\n",
    "\n",
    "            expectation_1 = expectation(circuit1,shots)\n",
    "            expectation_2 = expectation(circuit2,shots)\n",
    "\n",
    "            expectation_value += expectation_1*expectation_2\n",
    "\n",
    "    if expectation_value >= 0:\n",
    "        h = 1\n",
    "    else:\n",
    "        h = -1\n",
    "    return h\n",
    "\n",
    "h_partitioned(x,n_part,d,shots)"
   ]
  },
  {
   "cell_type": "code",
   "execution_count": 45,
   "metadata": {},
   "outputs": [
    {
     "name": "stdout",
     "output_type": "stream",
     "text": [
      "[(0, 0, 0), (0, 0, 1), (1, 1, 0), (1, 1, 1), (2, 2, 0), (2, 2, 1), (3, 3, 0), (3, 3, 1)]\n"
     ]
    },
    {
     "data": {
      "image/png": "[encoded data removed]",
      "text/plain": [
       "<Figure size 454.517x284.278 with 1 Axes>"
      ]
     },
     "execution_count": 45,
     "metadata": {},
     "output_type": "execute_result"
    }
   ],
   "source": [
    "n=4\n",
    "def theta_gate(qc,theta,i):\n",
    "    assert len(theta) == 3, \"theta incorrect size\"\n",
    "    qc.rx(theta[0],i)\n",
    "    qc.ry(theta[1],i)\n",
    "    qc.rz(theta[2],i)\n",
    "    return 0\n",
    "\n",
    "def W1(qc,theta, n, n_part, l=1):\n",
    "    Theta_matrix = np.reshape(theta, (n,l,3))[0:2,:,:]\n",
    "    for j in range(l):\n",
    "        for i in range(n_part):\n",
    "            theta_gate(qc,Theta_matrix[i,j,:],i)\n",
    "    qc.cz(0,1)        \n",
    "    return qc\n",
    "\n",
    "def W2(qc,theta, n, n_part, l=1):\n",
    "    Theta_matrix = np.reshape(theta, (n,l,3))[2:4,:,:]\n",
    "    for j in range(l):\n",
    "        for i in range(n_part):\n",
    "            theta_gate(qc,Theta_matrix[i,j,:],i)\n",
    "    return qc\n",
    "\n",
    "def M1(qc,theta,n,n_part,l=1):\n",
    "    return qc\n",
    "\n",
    "def M2(qc,theta,n,n_part,l=1):\n",
    "    qc.cz(0,1)   \n",
    "    return qc\n",
    "\n",
    "Theta = 2*np.pi*np.random.random(n*1*3)\n",
    "\n",
    "W_partitioned = [W1,W2]\n",
    "M_partitioned = [M1,M2]\n",
    "\n",
    "combinations = [(i, i, j) for i in range(0, 4) for j in range(0, 2)]\n",
    "print(combinations)\n",
    "\n",
    "W1_test = W1(qk.QuantumCircuit(n_part,n_part),Theta,n,n_part)\n",
    "W1_test.draw(output='mpl')"
   ]
  },
  {
   "cell_type": "code",
   "execution_count": 68,
   "metadata": {},
   "outputs": [],
   "source": [
    "def testing_circuit(x,n,n_part,d,shots,theta):\n",
    "    #Initialize circuit\n",
    "    circuit1 = qk.QuantumCircuit(n_part,n_part)\n",
    "    circuit2 = qk.QuantumCircuit(n_part,n_part)\n",
    "    circuit3 = qk.QuantumCircuit(n_part,n_part)\n",
    "\n",
    "    assert d<=2, \"d must be smaller or equal to 2\"\n",
    "\n",
    "    expectation_value = 0\n",
    "    if d == 1:\n",
    "        combinations = [(i, i, j) for i in range(0,4) for j in range(0,2)]\n",
    "        for i in range(len(combinations)):\n",
    "            circuit1 = U_partitioned[combinations[i][0]](x,n_part,circuit1)\n",
    "            circuit1.barrier()\n",
    "            circuit1.z(range(n_part))\n",
    "            circuit1.measure(range(n_part),range(n_part))\n",
    "\n",
    "            circuit2 = V_partitioned[combinations[i][1]](x,n_part,circuit2)\n",
    "            circuit2.barrier()\n",
    "            circuit2.z(range(n_part))\n",
    "            circuit2.measure(range(n_part),range(n_part))\n",
    "\n",
    "            circuit3 = W_partitioned[combinations[i][2]](circuit3,theta,n,n_part)\n",
    "            circuit3.barrier()\n",
    "            circuit3.z(range(n_part))\n",
    "            circuit3.measure(range(n_part),range(n_part))\n",
    "\n",
    "            expectation_1 = expectation(circuit1,shots)\n",
    "            expectation_2 = expectation(circuit2,shots)\n",
    "\n",
    "            expectation_value += expectation_1*expectation_2\n",
    "\n",
    "    if d == 2:\n",
    "        combinations = [((i, i, k), (j, j, l)) for i in range(0, 4) for j in range(0, 4) for k in range(0,2) for l in range(0,2)]\n",
    "        for i in range(len(combinations)):\n",
    "            circuit1 = U_partitioned[combinations[i][0][0]](x,n_part,circuit1)\n",
    "            circuit1.barrier()\n",
    "            circuit1 = V_partitioned[combinations[i][0][1]](x,n_part,circuit1)\n",
    "            circuit1.barrier()\n",
    "            circuit1 = W_partitioned[combinations[i][0][2]](circuit1,theta,n,n_part)\n",
    "            circuit1.barrier()\n",
    "            circuit1.z(range(n_part))\n",
    "            circuit1.measure(range(n_part),range(n_part))\n",
    "\n",
    "            circuit2 = U_partitioned[combinations[i][1][0]](x,n_part,circuit2)\n",
    "            circuit2.barrier()\n",
    "            circuit2 = V_partitioned[combinations[i][1][1]](x,n_part,circuit2)\n",
    "            circuit2.barrier()\n",
    "            circuit2 = M_partitioned[combinations[i][1][2]](circuit2,theta,n,n_part)\n",
    "            circuit2.barrier()\n",
    "            circuit2.z(range(n_part))\n",
    "            circuit2.measure(range(n_part),range(n_part))\n",
    "\n",
    "            expectation_1 = expectation(circuit1,shots)\n",
    "            expectation_2 = expectation(circuit2,shots)\n",
    "\n",
    "            expectation_value += expectation_1*expectation_2\n",
    "\n",
    "    if expectation_value >= 0:\n",
    "        h = 1\n",
    "    else:\n",
    "        h = -1\n",
    "    return h"
   ]
  },
  {
   "cell_type": "code",
   "execution_count": 73,
   "metadata": {},
   "outputs": [
    {
     "name": "stdout",
     "output_type": "stream",
     "text": [
      "-1\n"
     ]
    }
   ],
   "source": [
    "test = testing_circuit(x,n,n_part,1,shots,Theta)\n",
    "print(test)"
   ]
  },
  {
   "cell_type": "code",
   "execution_count": 63,
   "metadata": {},
   "outputs": [
    {
     "name": "stderr",
     "output_type": "stream",
     "text": [
      "/home/pschaefers/master/QCQP/lib/python3.10/site-packages/qiskit/visualization/circuit/matplotlib.py:266: FutureWarning: The default matplotlib drawer scheme will be changed to \"iqp\" in a following release. To silence this warning, specify the current default explicitly as style=\"clifford\", or the new default as style=\"iqp\".\n",
      "  self._style, def_font_ratio = load_style(self._style)\n"
     ]
    },
    {
     "data": {
      "image/png": "[encoded data removed]",
      "text/plain": [
       "<Figure size 2210.35x284.278 with 1 Axes>"
      ]
     },
     "execution_count": 63,
     "metadata": {},
     "output_type": "execute_result"
    }
   ],
   "source": []
  },
  {
   "cell_type": "code",
   "execution_count": 65,
   "metadata": {},
   "outputs": [
    {
     "name": "stderr",
     "output_type": "stream",
     "text": [
      "/home/pschaefers/master/QCQP/lib/python3.10/site-packages/qiskit/visualization/circuit/matplotlib.py:266: FutureWarning: The default matplotlib drawer scheme will be changed to \"iqp\" in a following release. To silence this warning, specify the current default explicitly as style=\"clifford\", or the new default as style=\"iqp\".\n",
      "  self._style, def_font_ratio = load_style(self._style)\n"
     ]
    },
    {
     "data": {
      "image/png": "[encoded data removed]",
      "text/plain": [
       "<Figure size 370.906x284.278 with 1 Axes>"
      ]
     },
     "execution_count": 65,
     "metadata": {},
     "output_type": "execute_result"
    }
   ],
   "source": [
    "# U1(x,n_part,qk.QuantumCircuit(n_part,n_part)).draw(output='mpl')\n",
    "# V1(x,n_part,qk.QuantumCircuit(n_part,n_part)).draw(output='mpl')\n",
    "W2(qk.QuantumCircuit(n_part,n_part),Theta,n,n_part).draw(output='mpl')\n"
   ]
  },
  {
   "cell_type": "code",
   "execution_count": 67,
   "metadata": {},
   "outputs": [
    {
     "name": "stdout",
     "output_type": "stream",
     "text": [
      "64\n"
     ]
    }
   ],
   "source": [
    "print(len([((i, i, k), (j, j, l)) for i in range(0, 4) for j in range(0, 4) for k in range(0,2) for l in range(0,2)]))"
   ]
  },
  {
   "cell_type": "code",
   "execution_count": null,
   "metadata": {},
   "outputs": [],
   "source": []
  }
 ],
 "metadata": {
  "kernelspec": {
   "display_name": "QCQP",
   "language": "python",
   "name": "python3"
  },
  "language_info": {
   "codemirror_mode": {
    "name": "ipython",
    "version": 3
   },
   "file_extension": ".py",
   "mimetype": "text/x-python",
   "name": "python",
   "nbconvert_exporter": "python",
   "pygments_lexer": "ipython3",
   "version": "3.10.12"
  }
 },
 "nbformat": 4,
 "nbformat_minor": 2
}
