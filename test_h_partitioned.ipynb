{
 "cells": [
  {
   "cell_type": "code",
   "execution_count": 2,
   "metadata": {},
   "outputs": [
    {
     "data": {
      "text/plain": [
       "1"
      ]
     },
     "execution_count": 2,
     "metadata": {},
     "output_type": "execute_result"
    }
   ],
   "source": [
    "from h_partitioned import *\n",
    "import numpy as np \n",
    "n= 4\n",
    "n_part =2\n",
    "d=2\n",
    "shots = 10\n",
    "\n",
    "x = np.array([0.8,0.2,0.4,0.6])\n",
    "theta = 2*np.pi*np.random.random(n*d*3)\n",
    "\n",
    "\n",
    "h_partitioned(x,n,n_part,d,shots,theta)"
   ]
  }
 ],
 "metadata": {
  "kernelspec": {
   "display_name": "Python 3",
   "language": "python",
   "name": "python3"
  },
  "language_info": {
   "codemirror_mode": {
    "name": "ipython",
    "version": 3
   },
   "file_extension": ".py",
   "mimetype": "text/x-python",
   "name": "python",
   "nbconvert_exporter": "python",
   "pygments_lexer": "ipython3",
   "version": "3.9.11"
  }
 },
 "nbformat": 4,
 "nbformat_minor": 2
}
