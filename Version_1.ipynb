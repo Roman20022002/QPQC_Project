{
 "cells": [
  {
   "cell_type": "code",
   "execution_count": 1,
   "id": "9115f968",
   "metadata": {},
   "outputs": [],
   "source": [
    "import numpy as np\n",
    "import matplotlib.pyplot as plt\n",
    "import seaborn as sns\n",
    "\n",
    "\n",
    "from sklearn.datasets import make_moons\n",
    "from sklearn.model_selection import train_test_split \n",
    "from sklearn.datasets import make_blobs \n",
    "from sklearn import svm\n",
    "\n",
    "from h import *\n",
    "from W_unitary import *\n",
    "from U_unitary import *\n",
    "from qiskit.algorithms.optimizers import COBYLA, ADAM, SPSA, SLSQP, POWELL, L_BFGS_B, TNC, AQGD\n",
    "\n",
    "%matplotlib inline\n",
    "#plt.rcParams['figure.figsize'] = (10,6)\n",
    "#plt.rcParams['figure.dpi'] = 100\n",
    "#sns.set()\n",
    "\n",
    "#%matplotlib inline\n",
    "#%load_ext autoreload\n",
    "#%autoreload 2"
   ]
  },
  {
   "cell_type": "code",
   "execution_count": 2,
   "id": "bba788fd",
   "metadata": {},
   "outputs": [
    {
     "data": {
      "image/png": "[encoded data removed]",
      "text/plain": [
       "<Figure size 432x288 with 1 Axes>"
      ]
     },
     "metadata": {
      "needs_background": "light"
     },
     "output_type": "display_data"
    }
   ],
   "source": [
    "X, y = make_moons(n_samples=100, noise=0.8)\n",
    "sns.scatterplot(x=X[:, 0], y=X[:, 1], hue=y, marker=\"o\", s=25, edgecolor=\"k\", legend=True).set_title(\"100 samples per moon\")\n",
    "plt.show()\n",
    "\n",
    "X_train, X_test, y_train, y_test = train_test_split(X, y, test_size=0.3)"
   ]
  },
  {
   "cell_type": "code",
   "execution_count": 3,
   "id": "dbeba259",
   "metadata": {},
   "outputs": [
    {
     "name": "stdout",
     "output_type": "stream",
     "text": [
      "[2.35330497 5.97351416 4.59925358 3.76148219 0.98029403 0.98014248\n",
      " 0.3649501  5.44234523 3.77691701 4.44895122 0.12933619 6.09412333]\n"
     ]
    }
   ],
   "source": [
    "RANDOM_STATE=42\n",
    "seed = np.random.seed(RANDOM_STATE)\n",
    "Theta = 2*np.pi*np.random.random(2*2*3)\n",
    "print(Theta)"
   ]
  },
  {
   "cell_type": "code",
   "execution_count": 4,
   "id": "96243c60",
   "metadata": {},
   "outputs": [
    {
     "name": "stdout",
     "output_type": "stream",
     "text": [
      "[1, -1, -1, -1, -1, -1, -1, -1, -1, -1, -1, 1, 1, 1, -1, -1, -1, -1, 1, 1, 1, -1, -1, 1, 1, 1, 1, 1, -1, 1, 1, 1, -1, -1, -1, 1, -1, -1, 1, 1, 1, -1, -1, -1, -1, -1, -1, 1, -1, 1, -1, 1, 1, -1, 1, -1, 1, -1, -1, -1, 1, -1, 1, -1, -1, -1, -1, -1, -1, -1]\n"
     ]
    }
   ],
   "source": [
    "shots=1024\n",
    "predictions = []\n",
    "for i in range(0, len(y_train)):\n",
    "    predictions.append(h(X_train[i], Theta, 2, 2, shots))\n",
    "print(predictions)\n",
    "\n"
   ]
  },
  {
   "cell_type": "code",
   "execution_count": 5,
   "id": "f7bb32fb",
   "metadata": {},
   "outputs": [],
   "source": [
    "def MSE_loss(Theta, y_train):\n",
    "    \n",
    "    new_y_train = []\n",
    "    for i in range(0, len(y_train)):\n",
    "        if y_train[i] == 0:\n",
    "            new_y_train.append(-1)\n",
    "        else:\n",
    "            new_y_train.append(1)\n",
    "    \n",
    "    shots=1024\n",
    "    predictions = []\n",
    "    for i in range(0, len(y_train)):\n",
    "        predictions.append(h(X_train[i], Theta, 2, 2, shots))\n",
    "    \n",
    "    error = []\n",
    "    for i in range(0, len(predictions)):\n",
    "        parity = predictions[i] - y_train[i]\n",
    "        error.append(parity)\n",
    "\n",
    "    norm = np.linalg.norm(error)\n",
    "    print(norm)\n",
    "    return norm"
   ]
  },
  {
   "cell_type": "code",
   "execution_count": 6,
   "id": "e1918ad1",
   "metadata": {},
   "outputs": [],
   "source": [
    "objective_function = lambda Theta: MSE_loss(Theta, y_train)"
   ]
  },
  {
   "cell_type": "code",
   "execution_count": 11,
   "id": "ced929f5",
   "metadata": {},
   "outputs": [
    {
     "name": "stdout",
     "output_type": "stream",
     "text": [
      "<qiskit.algorithms.optimizers.adam_amsgrad.ADAM object at 0x000001A19F539D30>\n"
     ]
    }
   ],
   "source": [
    "optimizer = ADAM(maxiter=100)\n",
    "print(optimizer)\n",
    "# output = optimizer.optimize(len(Theta), objective_function, initial_point=Theta)"
   ]
  },
  {
   "cell_type": "code",
   "execution_count": 8,
   "id": "b646b589",
   "metadata": {},
   "outputs": [
    {
     "name": "stdout",
     "output_type": "stream",
     "text": [
      "[2.35330497 5.97351416 4.59925358 3.76148219 0.98029403 0.98014248\n",
      " 0.3649501  5.44234523 3.77691701 4.44895122 0.12933619 6.09412333]\n",
      "12\n"
     ]
    }
   ],
   "source": [
    "print(output[0])\n",
    "print(len(output[0]))"
   ]
  },
  {
   "cell_type": "code",
   "execution_count": 9,
   "id": "b7de545b",
   "metadata": {},
   "outputs": [
    {
     "name": "stdout",
     "output_type": "stream",
     "text": [
      "[2.35330497 5.97351416 4.59925358 3.76148219 0.98029403 0.98014248\n",
      " 0.3649501  5.44234523 3.77691701 4.44895122 0.12933619 6.09412333]\n"
     ]
    }
   ],
   "source": [
    "print(Theta)"
   ]
  },
  {
   "cell_type": "code",
   "execution_count": null,
   "id": "1c474485",
   "metadata": {},
   "outputs": [],
   "source": []
  }
 ],
 "metadata": {
  "kernelspec": {
   "display_name": "Python 3",
   "language": "python",
   "name": "python3"
  },
  "language_info": {
   "codemirror_mode": {
    "name": "ipython",
    "version": 3
   },
   "file_extension": ".py",
   "mimetype": "text/x-python",
   "name": "python",
   "nbconvert_exporter": "python",
   "pygments_lexer": "ipython3",
   "version": "3.8.8"
  }
 },
 "nbformat": 4,
 "nbformat_minor": 5
}
