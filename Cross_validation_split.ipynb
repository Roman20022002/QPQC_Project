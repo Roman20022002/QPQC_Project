{
 "cells": [
  {
   "cell_type": "code",
   "execution_count": 5,
   "metadata": {},
   "outputs": [],
   "source": [
    "import numpy as np\n",
    "import matplotlib.pyplot as plt\n",
    "import seaborn as sns\n",
    "\n",
    "\n",
    "from sklearn.datasets import make_moons\n",
    "from sklearn.model_selection import train_test_split \n",
    "from sklearn.datasets import make_blobs \n",
    "from sklearn import svm\n",
    "\n",
    "from W_unitary import *\n",
    "from U_unitary import *\n",
    "\n",
    "%matplotlib inline"
   ]
  },
  {
   "cell_type": "code",
   "execution_count": 7,
   "metadata": {},
   "outputs": [],
   "source": [
    "def cross_validation_split(X,y, ele_per_split, i):\n",
    "    X_train =  np.concatenate((X[:, :ele_per_split*i], X[:, ele_per_split*(i+1) + 1:]), axis=1)\n",
    "    X_test = X[:, ele_per_split*i:ele_per_split*(i+1)]\n",
    "    y_train = np.concatenate((y[ :ele_per_split*i], y[ele_per_split*(i+1) + 1:]), axis=0)\n",
    "    y_test = y[ ele_per_split*i:ele_per_split*(i+1)]\n",
    "    return X_train, X_test, y_train, y_test"
   ]
  },
  {
   "cell_type": "code",
   "execution_count": 8,
   "metadata": {},
   "outputs": [
    {
     "ename": "IndexError",
     "evalue": "index 25 is out of bounds for axis 1 with size 2",
     "output_type": "error",
     "traceback": [
      "\u001b[1;31m---------------------------------------------------------------------------\u001b[0m",
      "\u001b[1;31mIndexError\u001b[0m                                Traceback (most recent call last)",
      "Cell \u001b[1;32mIn[8], line 10\u001b[0m\n\u001b[0;32m      7\u001b[0m X,y \u001b[38;5;241m=\u001b[39m make_moons(n_samples\u001b[38;5;241m=\u001b[39mn_samples, noise \u001b[38;5;241m=\u001b[39m \u001b[38;5;241m0.8\u001b[39m)\n\u001b[0;32m      9\u001b[0m \u001b[38;5;28;01mfor\u001b[39;00m i \u001b[38;5;129;01min\u001b[39;00m \u001b[38;5;28mrange\u001b[39m(n_splits):\n\u001b[1;32m---> 10\u001b[0m     X_train, X_test, y_train, y_test \u001b[38;5;241m=\u001b[39m \u001b[43mcross_validation_split\u001b[49m\u001b[43m(\u001b[49m\u001b[43mX\u001b[49m\u001b[43m,\u001b[49m\u001b[43my\u001b[49m\u001b[43m,\u001b[49m\u001b[43m \u001b[49m\u001b[43mele_per_split\u001b[49m\u001b[43m,\u001b[49m\u001b[43m \u001b[49m\u001b[43mi\u001b[49m\u001b[43m)\u001b[49m\n",
      "Cell \u001b[1;32mIn[7], line 3\u001b[0m, in \u001b[0;36mcross_validation_split\u001b[1;34m(X, y, ele_per_split, i)\u001b[0m\n\u001b[0;32m      1\u001b[0m \u001b[38;5;28;01mdef\u001b[39;00m \u001b[38;5;21mcross_validation_split\u001b[39m(X,y, ele_per_split, i):\n\u001b[0;32m      2\u001b[0m     X_train \u001b[38;5;241m=\u001b[39m  np\u001b[38;5;241m.\u001b[39mconcatenate((X[:, :ele_per_split\u001b[38;5;241m*\u001b[39mi], X[:, ele_per_split\u001b[38;5;241m*\u001b[39m(i\u001b[38;5;241m+\u001b[39m\u001b[38;5;241m1\u001b[39m) \u001b[38;5;241m+\u001b[39m \u001b[38;5;241m1\u001b[39m:]), axis\u001b[38;5;241m=\u001b[39m\u001b[38;5;241m1\u001b[39m)\n\u001b[1;32m----> 3\u001b[0m     X_test \u001b[38;5;241m=\u001b[39m \u001b[43mX\u001b[49m\u001b[43m[\u001b[49m\u001b[43m:\u001b[49m\u001b[43m,\u001b[49m\u001b[43m \u001b[49m\u001b[43mele_per_split\u001b[49m\u001b[38;5;241;43m*\u001b[39;49m\u001b[43mi\u001b[49m\u001b[38;5;241;43m+\u001b[39;49m\u001b[43mele_per_split\u001b[49m\u001b[38;5;241;43m*\u001b[39;49m\u001b[43m(\u001b[49m\u001b[43mi\u001b[49m\u001b[38;5;241;43m+\u001b[39;49m\u001b[38;5;241;43m1\u001b[39;49m\u001b[43m)\u001b[49m\u001b[43m]\u001b[49m\n\u001b[0;32m      4\u001b[0m     y_train \u001b[38;5;241m=\u001b[39m np\u001b[38;5;241m.\u001b[39mconcatenate((y[ :ele_per_split\u001b[38;5;241m*\u001b[39mi], y[ele_per_split\u001b[38;5;241m*\u001b[39m(i\u001b[38;5;241m+\u001b[39m\u001b[38;5;241m1\u001b[39m) \u001b[38;5;241m+\u001b[39m \u001b[38;5;241m1\u001b[39m:]), axis\u001b[38;5;241m=\u001b[39m\u001b[38;5;241m0\u001b[39m)\n\u001b[0;32m      5\u001b[0m     y_test \u001b[38;5;241m=\u001b[39m y[ ele_per_split\u001b[38;5;241m*\u001b[39mi\u001b[38;5;241m+\u001b[39mele_per_split\u001b[38;5;241m*\u001b[39m(i\u001b[38;5;241m+\u001b[39m\u001b[38;5;241m1\u001b[39m)]\n",
      "\u001b[1;31mIndexError\u001b[0m: index 25 is out of bounds for axis 1 with size 2"
     ]
    }
   ],
   "source": [
    "n_samples = 100\n",
    "n_splits = 4\n",
    "assert n_samples%n_splits == 0 , \"Make sure n_splits is divisor of n_samples\"\n",
    "ele_per_split = int(n_samples/n_splits)\n",
    "\n",
    "\n",
    "X,y = make_moons(n_samples=n_samples, noise = 0.8)\n",
    "\n",
    "for i in range(n_splits):\n",
    "    X_train, X_test, y_train, y_test = cross_validation_split(X,y, ele_per_split, i)"
   ]
  }
 ],
 "metadata": {
  "kernelspec": {
   "display_name": "Python 3",
   "language": "python",
   "name": "python3"
  },
  "language_info": {
   "codemirror_mode": {
    "name": "ipython",
    "version": 3
   },
   "file_extension": ".py",
   "mimetype": "text/x-python",
   "name": "python",
   "nbconvert_exporter": "python",
   "pygments_lexer": "ipython3",
   "version": "3.9.11"
  }
 },
 "nbformat": 4,
 "nbformat_minor": 2
}
