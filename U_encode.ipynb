{
 "cells": [
  {
   "cell_type": "code",
   "execution_count": 1,
   "metadata": {},
   "outputs": [],
   "source": [
    "import qiskit as qk\n",
    "import numpy as np\n",
    "import itertools"
   ]
  },
  {
   "cell_type": "code",
   "execution_count": 7,
   "metadata": {},
   "outputs": [
    {
     "data": {
      "text/html": [
       "<pre style=\"word-wrap: normal;white-space: pre;background: #fff0;line-height: 1.1;font-family: &quot;Courier New&quot;,Courier,monospace\">     ┌───┐┌──────┐                                              ┌───┐»\n",
       "q_0: ┤ H ├┤ P(2) ├──■─────────────────■────■─────────────────■──┤ H ├»\n",
       "     ├───┤├──────┤┌─┴─┐┌───────────┐┌─┴─┐  │                 │  └───┘»\n",
       "q_1: ┤ H ├┤ P(4) ├┤ X ├┤ P(14.444) ├┤ X ├──┼─────────────────┼────■──»\n",
       "     ├───┤├──────┤└───┘└───────────┘└───┘┌─┴─┐┌───────────┐┌─┴─┐┌─┴─┐»\n",
       "q_2: ┤ H ├┤ P(6) ├───────────────────────┤ X ├┤ P(13.936) ├┤ X ├┤ X ├»\n",
       "     └───┘└──────┘                       └───┘└───────────┘└───┘└───┘»\n",
       "c: 3/════════════════════════════════════════════════════════════════»\n",
       "                                                                     »\n",
       "«        ┌──────┐                                                             »\n",
       "«q_0: ───┤ P(2) ├──────────────────────■─────────────────■────■───────────────»\n",
       "«        └──────┘       ┌───┐┌──────┐┌─┴─┐┌───────────┐┌─┴─┐  │               »\n",
       "«q_1: ───────────────■──┤ H ├┤ P(4) ├┤ X ├┤ P(14.444) ├┤ X ├──┼───────────────»\n",
       "«     ┌───────────┐┌─┴─┐├───┤├──────┤└───┘└───────────┘└───┘┌─┴─┐┌───────────┐»\n",
       "«q_2: ┤ P(15.581) ├┤ X ├┤ H ├┤ P(6) ├───────────────────────┤ X ├┤ P(13.936) ├»\n",
       "«     └───────────┘└───┘└───┘└──────┘                       └───┘└───────────┘»\n",
       "«c: 3/════════════════════════════════════════════════════════════════════════»\n",
       "«                                                                             »\n",
       "«                                 \n",
       "«q_0: ──■─────────────────────────\n",
       "«       │                         \n",
       "«q_1: ──┼────■─────────────────■──\n",
       "«     ┌─┴─┐┌─┴─┐┌───────────┐┌─┴─┐\n",
       "«q_2: ┤ X ├┤ X ├┤ P(15.581) ├┤ X ├\n",
       "«     └───┘└───┘└───────────┘└───┘\n",
       "«c: 3/════════════════════════════\n",
       "«                                 </pre>"
      ],
      "text/plain": [
       "     ┌───┐┌──────┐                                              ┌───┐»\n",
       "q_0: ┤ H ├┤ P(2) ├──■─────────────────■────■─────────────────■──┤ H ├»\n",
       "     ├───┤├──────┤┌─┴─┐┌───────────┐┌─┴─┐  │                 │  └───┘»\n",
       "q_1: ┤ H ├┤ P(4) ├┤ X ├┤ P(14.444) ├┤ X ├──┼─────────────────┼────■──»\n",
       "     ├───┤├──────┤└───┘└───────────┘└───┘┌─┴─┐┌───────────┐┌─┴─┐┌─┴─┐»\n",
       "q_2: ┤ H ├┤ P(6) ├───────────────────────┤ X ├┤ P(13.936) ├┤ X ├┤ X ├»\n",
       "     └───┘└──────┘                       └───┘└───────────┘└───┘└───┘»\n",
       "c: 3/════════════════════════════════════════════════════════════════»\n",
       "                                                                     »\n",
       "«        ┌──────┐                                                             »\n",
       "«q_0: ───┤ P(2) ├──────────────────────■─────────────────■────■───────────────»\n",
       "«        └──────┘       ┌───┐┌──────┐┌─┴─┐┌───────────┐┌─┴─┐  │               »\n",
       "«q_1: ───────────────■──┤ H ├┤ P(4) ├┤ X ├┤ P(14.444) ├┤ X ├──┼───────────────»\n",
       "«     ┌───────────┐┌─┴─┐├───┤├──────┤└───┘└───────────┘└───┘┌─┴─┐┌───────────┐»\n",
       "«q_2: ┤ P(15.581) ├┤ X ├┤ H ├┤ P(6) ├───────────────────────┤ X ├┤ P(13.936) ├»\n",
       "«     └───────────┘└───┘└───┘└──────┘                       └───┘└───────────┘»\n",
       "«c: 3/════════════════════════════════════════════════════════════════════════»\n",
       "«                                                                             »\n",
       "«                                 \n",
       "«q_0: ──■─────────────────────────\n",
       "«       │                         \n",
       "«q_1: ──┼────■─────────────────■──\n",
       "«     ┌─┴─┐┌─┴─┐┌───────────┐┌─┴─┐\n",
       "«q_2: ┤ X ├┤ X ├┤ P(15.581) ├┤ X ├\n",
       "«     └───┘└───┘└───────────┘└───┘\n",
       "«c: 3/════════════════════════════\n",
       "«                                 "
      ]
     },
     "execution_count": 7,
     "metadata": {},
     "output_type": "execute_result"
    }
   ],
   "source": [
    "#Create subset S with |S| <= 2:\n",
    "def S(n):\n",
    "    numbers = list(range(1,n+1))\n",
    "    combinations = list(itertools.combinations(numbers,2))\n",
    "\n",
    "    #Combine numbers and combinations into one list\n",
    "    S = numbers+combinations\n",
    "\n",
    "    return S\n",
    "\n",
    "def phi_ij(xi,xj):\n",
    "    return (np.pi-xi)*(np.pi-xj)\n",
    "\n",
    "#Initialize quantum circuit with n qubits\n",
    "n = 3\n",
    "d = 2\n",
    "x = np.array([0.6,0.3,0.4])\n",
    "circuit = qk.QuantumCircuit(n,n)\n",
    "\n",
    "def U_single(x,n,circuit):\n",
    "    assert len(x) == n, \"x must be of length n\" \n",
    "\n",
    "    set = S(n)\n",
    "    \n",
    "    for i in set:\n",
    "        if type(i) == int:\n",
    "            theta = 2*i\n",
    "            circuit.p(theta,i-1)\n",
    "        else:\n",
    "            theta = 2*phi_ij(x[i[0]-1],x[i[1]-1])\n",
    "            circuit.cx(i[0]-1,i[1]-1)\n",
    "            circuit.p(theta,i[1]-1)\n",
    "            circuit.cx(i[0]-1,i[1]-1)\n",
    "\n",
    "    return 0\n",
    "\n",
    "def Hn(n,circuit):\n",
    "    circuit.h(range(n))\n",
    "    return 0\n",
    "\n",
    "def U(x,n,d):\n",
    "    circuit = qk.QuantumCircuit(n,n)\n",
    "    for i in range(d):\n",
    "        Hn(n,circuit)\n",
    "        U_single(x,n,circuit)\n",
    "    return circuit\n",
    "\n",
    "U(x,n,d).draw()\n"
   ]
  },
  {
   "cell_type": "code",
   "execution_count": null,
   "metadata": {},
   "outputs": [],
   "source": []
  }
 ],
 "metadata": {
  "kernelspec": {
   "display_name": "Python 3",
   "language": "python",
   "name": "python3"
  },
  "language_info": {
   "codemirror_mode": {
    "name": "ipython",
    "version": 3
   },
   "file_extension": ".py",
   "mimetype": "text/x-python",
   "name": "python",
   "nbconvert_exporter": "python",
   "pygments_lexer": "ipython3",
   "version": "3.8.8"
  }
 },
 "nbformat": 4,
 "nbformat_minor": 2
}
